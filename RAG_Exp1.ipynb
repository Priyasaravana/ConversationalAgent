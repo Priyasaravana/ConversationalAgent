{
 "cells": [
  {
   "cell_type": "code",
   "execution_count": 2,
   "metadata": {},
   "outputs": [
    {
     "name": "stdout",
     "output_type": "stream",
     "text": [
      "Collecting openai\n",
      "  Downloading openai-1.23.6-py3-none-any.whl.metadata (21 kB)\n",
      "Collecting anyio<5,>=3.5.0 (from openai)\n",
      "  Downloading anyio-4.3.0-py3-none-any.whl.metadata (4.6 kB)\n",
      "Collecting distro<2,>=1.7.0 (from openai)\n",
      "  Downloading distro-1.9.0-py3-none-any.whl.metadata (6.8 kB)\n",
      "Collecting httpx<1,>=0.23.0 (from openai)\n",
      "  Downloading httpx-0.27.0-py3-none-any.whl.metadata (7.2 kB)\n",
      "Collecting pydantic<3,>=1.9.0 (from openai)\n",
      "  Downloading pydantic-2.7.1-py3-none-any.whl.metadata (107 kB)\n",
      "     ---------------------------------------- 0.0/107.3 kB ? eta -:--:--\n",
      "     ----------------------------- --------- 81.9/107.3 kB 4.5 MB/s eta 0:00:01\n",
      "     -------------------------------------- 107.3/107.3 kB 3.1 MB/s eta 0:00:00\n",
      "Collecting sniffio (from openai)\n",
      "  Downloading sniffio-1.3.1-py3-none-any.whl.metadata (3.9 kB)\n",
      "Collecting tqdm>4 (from openai)\n",
      "  Downloading tqdm-4.66.2-py3-none-any.whl.metadata (57 kB)\n",
      "     ---------------------------------------- 0.0/57.6 kB ? eta -:--:--\n",
      "     ---------------------------------------- 57.6/57.6 kB 3.2 MB/s eta 0:00:00\n",
      "Collecting typing-extensions<5,>=4.7 (from openai)\n",
      "  Downloading typing_extensions-4.11.0-py3-none-any.whl.metadata (3.0 kB)\n",
      "Collecting idna>=2.8 (from anyio<5,>=3.5.0->openai)\n",
      "  Downloading idna-3.7-py3-none-any.whl.metadata (9.9 kB)\n",
      "Collecting certifi (from httpx<1,>=0.23.0->openai)\n",
      "  Downloading certifi-2024.2.2-py3-none-any.whl.metadata (2.2 kB)\n",
      "Collecting httpcore==1.* (from httpx<1,>=0.23.0->openai)\n",
      "  Downloading httpcore-1.0.5-py3-none-any.whl.metadata (20 kB)\n",
      "Collecting h11<0.15,>=0.13 (from httpcore==1.*->httpx<1,>=0.23.0->openai)\n",
      "  Downloading h11-0.14.0-py3-none-any.whl.metadata (8.2 kB)\n",
      "Collecting annotated-types>=0.4.0 (from pydantic<3,>=1.9.0->openai)\n",
      "  Downloading annotated_types-0.6.0-py3-none-any.whl.metadata (12 kB)\n",
      "Collecting pydantic-core==2.18.2 (from pydantic<3,>=1.9.0->openai)\n",
      "  Downloading pydantic_core-2.18.2-cp312-none-win_amd64.whl.metadata (6.7 kB)\n",
      "Requirement already satisfied: colorama in c:\\users\\ezhilpriyadharshinik\\appdata\\roaming\\python\\python312\\site-packages (from tqdm>4->openai) (0.4.6)\n",
      "Downloading openai-1.23.6-py3-none-any.whl (311 kB)\n",
      "   ---------------------------------------- 0.0/311.6 kB ? eta -:--:--\n",
      "   --------------------- ------------------ 163.8/311.6 kB 3.3 MB/s eta 0:00:01\n",
      "   ---------------------------------------- 311.6/311.6 kB 3.2 MB/s eta 0:00:00\n",
      "Downloading anyio-4.3.0-py3-none-any.whl (85 kB)\n",
      "   ---------------------------------------- 0.0/85.6 kB ? eta -:--:--\n",
      "   ---------------------------------------- 85.6/85.6 kB 4.7 MB/s eta 0:00:00\n",
      "Downloading distro-1.9.0-py3-none-any.whl (20 kB)\n",
      "Downloading httpx-0.27.0-py3-none-any.whl (75 kB)\n",
      "   ---------------------------------------- 0.0/75.6 kB ? eta -:--:--\n",
      "   ---------------------------------------- 75.6/75.6 kB 4.4 MB/s eta 0:00:00\n",
      "Downloading httpcore-1.0.5-py3-none-any.whl (77 kB)\n",
      "   ---------------------------------------- 0.0/77.9 kB ? eta -:--:--\n",
      "   ---------------------------------------- 77.9/77.9 kB 4.2 MB/s eta 0:00:00\n",
      "Downloading pydantic-2.7.1-py3-none-any.whl (409 kB)\n",
      "   ---------------------------------------- 0.0/409.3 kB ? eta -:--:--\n",
      "   ------------------- -------------------- 194.6/409.3 kB 3.9 MB/s eta 0:00:01\n",
      "   ---------------------------------------  399.4/409.3 kB 5.0 MB/s eta 0:00:01\n",
      "   ---------------------------------------- 409.3/409.3 kB 4.2 MB/s eta 0:00:00\n",
      "Downloading pydantic_core-2.18.2-cp312-none-win_amd64.whl (1.9 MB)\n",
      "   ---------------------------------------- 0.0/1.9 MB ? eta -:--:--\n",
      "    --------------------------------------- 0.0/1.9 MB 1.9 MB/s eta 0:00:01\n",
      "   ------ --------------------------------- 0.3/1.9 MB 3.8 MB/s eta 0:00:01\n",
      "   ------------ --------------------------- 0.6/1.9 MB 4.6 MB/s eta 0:00:01\n",
      "   ------------------ --------------------- 0.9/1.9 MB 5.1 MB/s eta 0:00:01\n",
      "   ------------------------ --------------- 1.2/1.9 MB 5.3 MB/s eta 0:00:01\n",
      "   ------------------------------ --------- 1.5/1.9 MB 5.5 MB/s eta 0:00:01\n",
      "   ---------------------------------- ----- 1.6/1.9 MB 5.2 MB/s eta 0:00:01\n",
      "   ---------------------------------------  1.9/1.9 MB 5.2 MB/s eta 0:00:01\n",
      "   ---------------------------------------- 1.9/1.9 MB 5.1 MB/s eta 0:00:00\n",
      "Downloading sniffio-1.3.1-py3-none-any.whl (10 kB)\n",
      "Downloading tqdm-4.66.2-py3-none-any.whl (78 kB)\n",
      "   ---------------------------------------- 0.0/78.3 kB ? eta -:--:--\n",
      "   ---------------------------------------- 78.3/78.3 kB 2.2 MB/s eta 0:00:00\n",
      "Downloading typing_extensions-4.11.0-py3-none-any.whl (34 kB)\n",
      "Downloading annotated_types-0.6.0-py3-none-any.whl (12 kB)\n",
      "Downloading idna-3.7-py3-none-any.whl (66 kB)\n",
      "   ---------------------------------------- 0.0/66.8 kB ? eta -:--:--\n",
      "   ---------------------------------------- 66.8/66.8 kB 3.5 MB/s eta 0:00:00\n",
      "Downloading certifi-2024.2.2-py3-none-any.whl (163 kB)\n",
      "   ---------------------------------------- 0.0/163.8 kB ? eta -:--:--\n",
      "   ------------------------------------- -- 153.6/163.8 kB 4.6 MB/s eta 0:00:01\n",
      "   ---------------------------------------- 163.8/163.8 kB 5.0 MB/s eta 0:00:00\n",
      "Downloading h11-0.14.0-py3-none-any.whl (58 kB)\n",
      "   ---------------------------------------- 0.0/58.3 kB ? eta -:--:--\n",
      "   ---------------------------------------- 58.3/58.3 kB 3.0 MB/s eta 0:00:00\n",
      "Installing collected packages: typing-extensions, tqdm, sniffio, idna, h11, distro, certifi, annotated-types, pydantic-core, httpcore, anyio, pydantic, httpx, openai\n",
      "Successfully installed annotated-types-0.6.0 anyio-4.3.0 certifi-2024.2.2 distro-1.9.0 h11-0.14.0 httpcore-1.0.5 httpx-0.27.0 idna-3.7 openai-1.23.6 pydantic-2.7.1 pydantic-core-2.18.2 sniffio-1.3.1 tqdm-4.66.2 typing-extensions-4.11.0\n"
     ]
    },
    {
     "name": "stderr",
     "output_type": "stream",
     "text": [
      "ERROR: Invalid requirement: '#'\n"
     ]
    },
    {
     "name": "stdout",
     "output_type": "stream",
     "text": [
      "Collecting lark\n",
      "  Downloading lark-1.1.9-py3-none-any.whl.metadata (1.9 kB)\n",
      "Downloading lark-1.1.9-py3-none-any.whl (111 kB)\n",
      "   ---------------------------------------- 0.0/111.7 kB ? eta -:--:--\n",
      "   ----------- ---------------------------- 30.7/111.7 kB 1.3 MB/s eta 0:00:01\n",
      "   ---------------------------------------- 111.7/111.7 kB 1.6 MB/s eta 0:00:00\n",
      "Installing collected packages: lark\n",
      "Successfully installed lark-1.1.9\n",
      "Collecting pypdf\n",
      "  Downloading pypdf-4.2.0-py3-none-any.whl.metadata (7.4 kB)\n",
      "Downloading pypdf-4.2.0-py3-none-any.whl (290 kB)\n",
      "   ---------------------------------------- 0.0/290.4 kB ? eta -:--:--\n",
      "   ---- ----------------------------------- 30.7/290.4 kB 1.4 MB/s eta 0:00:01\n",
      "   ------------------- -------------------- 143.4/290.4 kB 2.1 MB/s eta 0:00:01\n",
      "   -------------------------------- ------- 235.5/290.4 kB 2.1 MB/s eta 0:00:01\n",
      "   ---------------------------------------- 290.4/290.4 kB 2.0 MB/s eta 0:00:00\n",
      "Installing collected packages: pypdf\n",
      "Successfully installed pypdf-4.2.0\n",
      "Collecting langchain\n",
      "  Downloading langchain-0.1.16-py3-none-any.whl.metadata (13 kB)\n",
      "Collecting PyYAML>=5.3 (from langchain)\n",
      "  Downloading PyYAML-6.0.1-cp312-cp312-win_amd64.whl.metadata (2.1 kB)\n",
      "Collecting SQLAlchemy<3,>=1.4 (from langchain)\n",
      "  Downloading SQLAlchemy-2.0.29-cp312-cp312-win_amd64.whl.metadata (9.8 kB)\n",
      "Collecting aiohttp<4.0.0,>=3.8.3 (from langchain)\n",
      "  Downloading aiohttp-3.9.5-cp312-cp312-win_amd64.whl.metadata (7.7 kB)\n",
      "Collecting dataclasses-json<0.7,>=0.5.7 (from langchain)\n",
      "  Downloading dataclasses_json-0.6.5-py3-none-any.whl.metadata (25 kB)\n",
      "Collecting jsonpatch<2.0,>=1.33 (from langchain)\n",
      "  Downloading jsonpatch-1.33-py2.py3-none-any.whl.metadata (3.0 kB)\n",
      "Collecting langchain-community<0.1,>=0.0.32 (from langchain)\n",
      "  Downloading langchain_community-0.0.34-py3-none-any.whl.metadata (8.5 kB)\n",
      "Collecting langchain-core<0.2.0,>=0.1.42 (from langchain)\n",
      "  Downloading langchain_core-0.1.46-py3-none-any.whl.metadata (5.9 kB)\n",
      "Collecting langchain-text-splitters<0.1,>=0.0.1 (from langchain)\n",
      "  Downloading langchain_text_splitters-0.0.1-py3-none-any.whl.metadata (2.0 kB)\n",
      "Collecting langsmith<0.2.0,>=0.1.17 (from langchain)\n",
      "  Downloading langsmith-0.1.51-py3-none-any.whl.metadata (13 kB)\n",
      "Requirement already satisfied: numpy<2,>=1 in c:\\users\\ezhilpriyadharshinik\\appdata\\local\\programs\\python\\python312\\lib\\site-packages (from langchain) (1.26.4)\n",
      "Requirement already satisfied: pydantic<3,>=1 in c:\\users\\ezhilpriyadharshinik\\appdata\\local\\programs\\python\\python312\\lib\\site-packages (from langchain) (2.7.1)\n",
      "Collecting requests<3,>=2 (from langchain)\n",
      "  Downloading requests-2.31.0-py3-none-any.whl.metadata (4.6 kB)\n",
      "Collecting tenacity<9.0.0,>=8.1.0 (from langchain)\n",
      "  Downloading tenacity-8.2.3-py3-none-any.whl.metadata (1.0 kB)\n",
      "Collecting aiosignal>=1.1.2 (from aiohttp<4.0.0,>=3.8.3->langchain)\n",
      "  Downloading aiosignal-1.3.1-py3-none-any.whl.metadata (4.0 kB)\n",
      "Collecting attrs>=17.3.0 (from aiohttp<4.0.0,>=3.8.3->langchain)\n",
      "  Downloading attrs-23.2.0-py3-none-any.whl.metadata (9.5 kB)\n",
      "Collecting frozenlist>=1.1.1 (from aiohttp<4.0.0,>=3.8.3->langchain)\n",
      "  Downloading frozenlist-1.4.1-cp312-cp312-win_amd64.whl.metadata (12 kB)\n",
      "Collecting multidict<7.0,>=4.5 (from aiohttp<4.0.0,>=3.8.3->langchain)\n",
      "  Downloading multidict-6.0.5-cp312-cp312-win_amd64.whl.metadata (4.3 kB)\n",
      "Collecting yarl<2.0,>=1.0 (from aiohttp<4.0.0,>=3.8.3->langchain)\n",
      "  Downloading yarl-1.9.4-cp312-cp312-win_amd64.whl.metadata (32 kB)\n",
      "Collecting marshmallow<4.0.0,>=3.18.0 (from dataclasses-json<0.7,>=0.5.7->langchain)\n",
      "  Downloading marshmallow-3.21.1-py3-none-any.whl.metadata (7.2 kB)\n",
      "Collecting typing-inspect<1,>=0.4.0 (from dataclasses-json<0.7,>=0.5.7->langchain)\n",
      "  Downloading typing_inspect-0.9.0-py3-none-any.whl.metadata (1.5 kB)\n",
      "Collecting jsonpointer>=1.9 (from jsonpatch<2.0,>=1.33->langchain)\n",
      "  Downloading jsonpointer-2.4-py2.py3-none-any.whl.metadata (2.5 kB)\n",
      "Collecting packaging<24.0,>=23.2 (from langchain-core<0.2.0,>=0.1.42->langchain)\n",
      "  Downloading packaging-23.2-py3-none-any.whl.metadata (3.2 kB)\n",
      "Collecting orjson<4.0.0,>=3.9.14 (from langsmith<0.2.0,>=0.1.17->langchain)\n",
      "  Downloading orjson-3.10.1-cp312-none-win_amd64.whl.metadata (50 kB)\n",
      "     ---------------------------------------- 0.0/50.9 kB ? eta -:--:--\n",
      "     ---------------------------------------- 50.9/50.9 kB ? eta 0:00:00\n",
      "Requirement already satisfied: annotated-types>=0.4.0 in c:\\users\\ezhilpriyadharshinik\\appdata\\local\\programs\\python\\python312\\lib\\site-packages (from pydantic<3,>=1->langchain) (0.6.0)\n",
      "Requirement already satisfied: pydantic-core==2.18.2 in c:\\users\\ezhilpriyadharshinik\\appdata\\local\\programs\\python\\python312\\lib\\site-packages (from pydantic<3,>=1->langchain) (2.18.2)\n",
      "Requirement already satisfied: typing-extensions>=4.6.1 in c:\\users\\ezhilpriyadharshinik\\appdata\\local\\programs\\python\\python312\\lib\\site-packages (from pydantic<3,>=1->langchain) (4.11.0)\n",
      "Collecting charset-normalizer<4,>=2 (from requests<3,>=2->langchain)\n",
      "  Downloading charset_normalizer-3.3.2-cp312-cp312-win_amd64.whl.metadata (34 kB)\n",
      "Requirement already satisfied: idna<4,>=2.5 in c:\\users\\ezhilpriyadharshinik\\appdata\\local\\programs\\python\\python312\\lib\\site-packages (from requests<3,>=2->langchain) (3.7)\n",
      "Collecting urllib3<3,>=1.21.1 (from requests<3,>=2->langchain)\n",
      "  Downloading urllib3-2.2.1-py3-none-any.whl.metadata (6.4 kB)\n",
      "Requirement already satisfied: certifi>=2017.4.17 in c:\\users\\ezhilpriyadharshinik\\appdata\\local\\programs\\python\\python312\\lib\\site-packages (from requests<3,>=2->langchain) (2024.2.2)\n",
      "Collecting greenlet!=0.4.17 (from SQLAlchemy<3,>=1.4->langchain)\n",
      "  Downloading greenlet-3.0.3-cp312-cp312-win_amd64.whl.metadata (3.9 kB)\n",
      "Collecting mypy-extensions>=0.3.0 (from typing-inspect<1,>=0.4.0->dataclasses-json<0.7,>=0.5.7->langchain)\n",
      "  Downloading mypy_extensions-1.0.0-py3-none-any.whl.metadata (1.1 kB)\n",
      "Downloading langchain-0.1.16-py3-none-any.whl (817 kB)\n",
      "   ---------------------------------------- 0.0/817.7 kB ? eta -:--:--\n",
      "   --------- ------------------------------ 184.3/817.7 kB 5.6 MB/s eta 0:00:01\n",
      "   -------------------- ------------------- 419.8/817.7 kB 5.3 MB/s eta 0:00:01\n",
      "   -------------------------------- ------- 665.6/817.7 kB 5.2 MB/s eta 0:00:01\n",
      "   ---------------------------------------- 817.7/817.7 kB 5.2 MB/s eta 0:00:00\n",
      "Downloading aiohttp-3.9.5-cp312-cp312-win_amd64.whl (369 kB)\n",
      "   ---------------------------------------- 0.0/369.0 kB ? eta -:--:--\n",
      "   ----------------------- ---------------- 215.0/369.0 kB 4.4 MB/s eta 0:00:01\n",
      "   ---------------------------------------- 369.0/369.0 kB 4.6 MB/s eta 0:00:00\n",
      "Downloading dataclasses_json-0.6.5-py3-none-any.whl (28 kB)\n",
      "Downloading jsonpatch-1.33-py2.py3-none-any.whl (12 kB)\n",
      "Downloading langchain_community-0.0.34-py3-none-any.whl (1.9 MB)\n",
      "   ---------------------------------------- 0.0/1.9 MB ? eta -:--:--\n",
      "   ---- ----------------------------------- 0.2/1.9 MB 13.0 MB/s eta 0:00:01\n",
      "   ---------- ----------------------------- 0.5/1.9 MB 6.3 MB/s eta 0:00:01\n",
      "   --------------- ------------------------ 0.8/1.9 MB 6.0 MB/s eta 0:00:01\n",
      "   -------------------- ------------------- 1.0/1.9 MB 5.8 MB/s eta 0:00:01\n",
      "   ------------------------- -------------- 1.2/1.9 MB 5.5 MB/s eta 0:00:01\n",
      "   ------------------------------ --------- 1.5/1.9 MB 5.6 MB/s eta 0:00:01\n",
      "   ------------------------------------ --- 1.7/1.9 MB 5.8 MB/s eta 0:00:01\n",
      "   ---------------------------------------- 1.9/1.9 MB 5.6 MB/s eta 0:00:00\n",
      "Downloading langchain_core-0.1.46-py3-none-any.whl (299 kB)\n",
      "   ---------------------------------------- 0.0/299.3 kB ? eta -:--:--\n",
      "   ----------------------- ---------------- 174.1/299.3 kB 3.5 MB/s eta 0:00:01\n",
      "   ---------------------------------------- 299.3/299.3 kB 4.7 MB/s eta 0:00:00\n",
      "Downloading langchain_text_splitters-0.0.1-py3-none-any.whl (21 kB)\n",
      "Downloading langsmith-0.1.51-py3-none-any.whl (115 kB)\n",
      "   ---------------------------------------- 0.0/116.0 kB ? eta -:--:--\n",
      "   ---------------------------------------- 116.0/116.0 kB 6.6 MB/s eta 0:00:00\n",
      "Downloading PyYAML-6.0.1-cp312-cp312-win_amd64.whl (138 kB)\n",
      "   ---------------------------------------- 0.0/138.7 kB ? eta -:--:--\n",
      "   -------------------------------------- - 133.1/138.7 kB 7.7 MB/s eta 0:00:01\n",
      "   ---------------------------------------- 138.7/138.7 kB 4.1 MB/s eta 0:00:00\n",
      "Downloading requests-2.31.0-py3-none-any.whl (62 kB)\n",
      "   ---------------------------------------- 0.0/62.6 kB ? eta -:--:--\n",
      "   ---------------------------------------- 62.6/62.6 kB 3.3 MB/s eta 0:00:00\n",
      "Downloading SQLAlchemy-2.0.29-cp312-cp312-win_amd64.whl (2.1 MB)\n",
      "   ---------------------------------------- 0.0/2.1 MB ? eta -:--:--\n",
      "   -- ------------------------------------- 0.1/2.1 MB 3.6 MB/s eta 0:00:01\n",
      "   ------ --------------------------------- 0.3/2.1 MB 5.3 MB/s eta 0:00:01\n",
      "   ---------- ----------------------------- 0.6/2.1 MB 5.0 MB/s eta 0:00:01\n",
      "   --------------- ------------------------ 0.8/2.1 MB 5.1 MB/s eta 0:00:01\n",
      "   ------------------- -------------------- 1.0/2.1 MB 4.8 MB/s eta 0:00:01\n",
      "   -------------------------- ------------- 1.4/2.1 MB 5.4 MB/s eta 0:00:01\n",
      "   -------------------------------- ------- 1.7/2.1 MB 5.6 MB/s eta 0:00:01\n",
      "   ------------------------------------- -- 2.0/2.1 MB 5.7 MB/s eta 0:00:01\n",
      "   ---------------------------------------- 2.1/2.1 MB 5.5 MB/s eta 0:00:00\n",
      "Downloading tenacity-8.2.3-py3-none-any.whl (24 kB)\n",
      "Downloading aiosignal-1.3.1-py3-none-any.whl (7.6 kB)\n",
      "Downloading attrs-23.2.0-py3-none-any.whl (60 kB)\n",
      "   ---------------------------------------- 0.0/60.8 kB ? eta -:--:--\n",
      "   ---------------------------------------- 60.8/60.8 kB ? eta 0:00:00\n",
      "Downloading charset_normalizer-3.3.2-cp312-cp312-win_amd64.whl (100 kB)\n",
      "   ---------------------------------------- 0.0/100.4 kB ? eta -:--:--\n",
      "   ---------------------------------------- 100.4/100.4 kB 6.0 MB/s eta 0:00:00\n",
      "Downloading frozenlist-1.4.1-cp312-cp312-win_amd64.whl (50 kB)\n",
      "   ---------------------------------------- 0.0/50.5 kB ? eta -:--:--\n",
      "   ---------------------------------------- 50.5/50.5 kB 2.5 MB/s eta 0:00:00\n",
      "Downloading greenlet-3.0.3-cp312-cp312-win_amd64.whl (293 kB)\n",
      "   ---------------------------------------- 0.0/293.6 kB ? eta -:--:--\n",
      "   ---------------------------------------  286.7/293.6 kB 8.9 MB/s eta 0:00:01\n",
      "   ---------------------------------------- 293.6/293.6 kB 9.1 MB/s eta 0:00:00\n",
      "Downloading jsonpointer-2.4-py2.py3-none-any.whl (7.8 kB)\n",
      "Downloading marshmallow-3.21.1-py3-none-any.whl (49 kB)\n",
      "   ---------------------------------------- 0.0/49.4 kB ? eta -:--:--\n",
      "   ---------------------------------------- 49.4/49.4 kB ? eta 0:00:00\n",
      "Downloading multidict-6.0.5-cp312-cp312-win_amd64.whl (27 kB)\n",
      "Downloading orjson-3.10.1-cp312-none-win_amd64.whl (139 kB)\n",
      "   ---------------------------------------- 0.0/139.2 kB ? eta -:--:--\n",
      "   ---------------------------------------- 139.2/139.2 kB 8.1 MB/s eta 0:00:00\n",
      "Downloading packaging-23.2-py3-none-any.whl (53 kB)\n",
      "   ---------------------------------------- 0.0/53.0 kB ? eta -:--:--\n",
      "   ---------------------------------------- 53.0/53.0 kB 2.7 MB/s eta 0:00:00\n",
      "Downloading typing_inspect-0.9.0-py3-none-any.whl (8.8 kB)\n",
      "Downloading urllib3-2.2.1-py3-none-any.whl (121 kB)\n",
      "   ---------------------------------------- 0.0/121.1 kB ? eta -:--:--\n",
      "   ---------------------------------------- 121.1/121.1 kB 6.9 MB/s eta 0:00:00\n",
      "Downloading yarl-1.9.4-cp312-cp312-win_amd64.whl (76 kB)\n",
      "   ---------------------------------------- 0.0/76.4 kB ? eta -:--:--\n",
      "   ---------------------------------------- 76.4/76.4 kB 4.1 MB/s eta 0:00:00\n",
      "Downloading mypy_extensions-1.0.0-py3-none-any.whl (4.7 kB)\n",
      "Installing collected packages: urllib3, tenacity, PyYAML, packaging, orjson, mypy-extensions, multidict, jsonpointer, greenlet, frozenlist, charset-normalizer, attrs, yarl, typing-inspect, SQLAlchemy, requests, marshmallow, jsonpatch, aiosignal, langsmith, dataclasses-json, aiohttp, langchain-core, langchain-text-splitters, langchain-community, langchain\n",
      "  Attempting uninstall: packaging\n",
      "    Found existing installation: packaging 24.0\n",
      "    Uninstalling packaging-24.0:\n",
      "      Successfully uninstalled packaging-24.0\n",
      "Successfully installed PyYAML-6.0.1 SQLAlchemy-2.0.29 aiohttp-3.9.5 aiosignal-1.3.1 attrs-23.2.0 charset-normalizer-3.3.2 dataclasses-json-0.6.5 frozenlist-1.4.1 greenlet-3.0.3 jsonpatch-1.33 jsonpointer-2.4 langchain-0.1.16 langchain-community-0.0.34 langchain-core-0.1.46 langchain-text-splitters-0.0.1 langsmith-0.1.51 marshmallow-3.21.1 multidict-6.0.5 mypy-extensions-1.0.0 orjson-3.10.1 packaging-23.2 requests-2.31.0 tenacity-8.2.3 typing-inspect-0.9.0 urllib3-2.2.1 yarl-1.9.4\n",
      "Requirement already satisfied: pypdf in c:\\users\\ezhilpriyadharshinik\\appdata\\local\\programs\\python\\python312\\lib\\site-packages (4.2.0)\n",
      "Collecting yt_dlp\n",
      "  Downloading yt_dlp-2024.4.9-py3-none-any.whl.metadata (165 kB)\n",
      "     ---------------------------------------- 0.0/166.0 kB ? eta -:--:--\n",
      "     -- ------------------------------------- 10.2/166.0 kB ? eta -:--:--\n",
      "     --------------------- ----------------- 92.2/166.0 kB 1.3 MB/s eta 0:00:01\n",
      "     -------------------------------------- 166.0/166.0 kB 1.7 MB/s eta 0:00:00\n",
      "Collecting brotli (from yt_dlp)\n",
      "  Downloading Brotli-1.1.0-cp312-cp312-win_amd64.whl.metadata (5.6 kB)\n",
      "Requirement already satisfied: certifi in c:\\users\\ezhilpriyadharshinik\\appdata\\local\\programs\\python\\python312\\lib\\site-packages (from yt_dlp) (2024.2.2)\n",
      "Collecting mutagen (from yt_dlp)\n",
      "  Downloading mutagen-1.47.0-py3-none-any.whl.metadata (1.7 kB)\n",
      "Collecting pycryptodomex (from yt_dlp)\n",
      "  Downloading pycryptodomex-3.20.0-cp35-abi3-win_amd64.whl.metadata (3.4 kB)\n",
      "Requirement already satisfied: requests<3,>=2.31.0 in c:\\users\\ezhilpriyadharshinik\\appdata\\local\\programs\\python\\python312\\lib\\site-packages (from yt_dlp) (2.31.0)\n",
      "Requirement already satisfied: urllib3<3,>=1.26.17 in c:\\users\\ezhilpriyadharshinik\\appdata\\local\\programs\\python\\python312\\lib\\site-packages (from yt_dlp) (2.2.1)\n",
      "Collecting websockets>=12.0 (from yt_dlp)\n",
      "  Downloading websockets-12.0-cp312-cp312-win_amd64.whl.metadata (6.8 kB)\n",
      "Requirement already satisfied: charset-normalizer<4,>=2 in c:\\users\\ezhilpriyadharshinik\\appdata\\local\\programs\\python\\python312\\lib\\site-packages (from requests<3,>=2.31.0->yt_dlp) (3.3.2)\n",
      "Requirement already satisfied: idna<4,>=2.5 in c:\\users\\ezhilpriyadharshinik\\appdata\\local\\programs\\python\\python312\\lib\\site-packages (from requests<3,>=2.31.0->yt_dlp) (3.7)\n",
      "Downloading yt_dlp-2024.4.9-py3-none-any.whl (3.1 MB)\n",
      "   ---------------------------------------- 0.0/3.1 MB ? eta -:--:--\n",
      "   -- ------------------------------------- 0.2/3.1 MB 3.5 MB/s eta 0:00:01\n",
      "   ---- ----------------------------------- 0.4/3.1 MB 3.8 MB/s eta 0:00:01\n",
      "   ------- -------------------------------- 0.6/3.1 MB 4.1 MB/s eta 0:00:01\n",
      "   ---------- ----------------------------- 0.8/3.1 MB 4.5 MB/s eta 0:00:01\n",
      "   ------------- -------------------------- 1.0/3.1 MB 4.7 MB/s eta 0:00:01\n",
      "   --------------- ------------------------ 1.2/3.1 MB 4.5 MB/s eta 0:00:01\n",
      "   ------------------ --------------------- 1.4/3.1 MB 4.5 MB/s eta 0:00:01\n",
      "   -------------------- ------------------- 1.6/3.1 MB 4.3 MB/s eta 0:00:01\n",
      "   ----------------------- ---------------- 1.8/3.1 MB 4.4 MB/s eta 0:00:01\n",
      "   -------------------------- ------------- 2.0/3.1 MB 4.4 MB/s eta 0:00:01\n",
      "   ----------------------------- ---------- 2.3/3.1 MB 4.5 MB/s eta 0:00:01\n",
      "   -------------------------------- ------- 2.5/3.1 MB 4.5 MB/s eta 0:00:01\n",
      "   ----------------------------------- ---- 2.7/3.1 MB 4.6 MB/s eta 0:00:01\n",
      "   -------------------------------------- - 3.0/3.1 MB 4.6 MB/s eta 0:00:01\n",
      "   ---------------------------------------- 3.1/3.1 MB 4.6 MB/s eta 0:00:00\n",
      "Downloading websockets-12.0-cp312-cp312-win_amd64.whl (124 kB)\n",
      "   ---------------------------------------- 0.0/125.0 kB ? eta -:--:--\n",
      "   ---------------------------------------- 125.0/125.0 kB 3.7 MB/s eta 0:00:00\n",
      "Downloading Brotli-1.1.0-cp312-cp312-win_amd64.whl (357 kB)\n",
      "   ---------------------------------------- 0.0/357.3 kB ? eta -:--:--\n",
      "   ------------- -------------------------- 122.9/357.3 kB 3.6 MB/s eta 0:00:01\n",
      "   ----------------------------------- ---- 317.4/357.3 kB 3.9 MB/s eta 0:00:01\n",
      "   ---------------------------------------- 357.3/357.3 kB 3.7 MB/s eta 0:00:00\n",
      "Downloading mutagen-1.47.0-py3-none-any.whl (194 kB)\n",
      "   ---------------------------------------- 0.0/194.4 kB ? eta -:--:--\n",
      "   ------------------------------------- -- 184.3/194.4 kB 5.6 MB/s eta 0:00:01\n",
      "   ---------------------------------------- 194.4/194.4 kB 3.9 MB/s eta 0:00:00\n",
      "Downloading pycryptodomex-3.20.0-cp35-abi3-win_amd64.whl (1.8 MB)\n",
      "   ---------------------------------------- 0.0/1.8 MB ? eta -:--:--\n",
      "   -- ------------------------------------- 0.1/1.8 MB 5.8 MB/s eta 0:00:01\n",
      "   ------- -------------------------------- 0.3/1.8 MB 5.4 MB/s eta 0:00:01\n",
      "   ------------- -------------------------- 0.6/1.8 MB 5.5 MB/s eta 0:00:01\n",
      "   ------------------- -------------------- 0.9/1.8 MB 5.4 MB/s eta 0:00:01\n",
      "   ----------------------- ---------------- 1.1/1.8 MB 5.1 MB/s eta 0:00:01\n",
      "   -------------------------- ------------- 1.2/1.8 MB 4.9 MB/s eta 0:00:01\n",
      "   ----------------------------- ---------- 1.3/1.8 MB 4.4 MB/s eta 0:00:01\n",
      "   --------------------------------- ------ 1.5/1.8 MB 4.2 MB/s eta 0:00:01\n",
      "   ------------------------------------- -- 1.6/1.8 MB 4.2 MB/s eta 0:00:01\n",
      "   ---------------------------------------- 1.8/1.8 MB 4.0 MB/s eta 0:00:00\n",
      "Installing collected packages: brotli, websockets, pycryptodomex, mutagen, yt_dlp\n",
      "Successfully installed brotli-1.1.0 mutagen-1.47.0 pycryptodomex-3.20.0 websockets-12.0 yt_dlp-2024.4.9\n",
      "Requirement already satisfied: langchain in c:\\users\\ezhilpriyadharshinik\\appdata\\local\\programs\\python\\python312\\lib\\site-packages (0.1.16)\n",
      "Requirement already satisfied: PyYAML>=5.3 in c:\\users\\ezhilpriyadharshinik\\appdata\\local\\programs\\python\\python312\\lib\\site-packages (from langchain) (6.0.1)\n",
      "Requirement already satisfied: SQLAlchemy<3,>=1.4 in c:\\users\\ezhilpriyadharshinik\\appdata\\local\\programs\\python\\python312\\lib\\site-packages (from langchain) (2.0.29)\n",
      "Requirement already satisfied: aiohttp<4.0.0,>=3.8.3 in c:\\users\\ezhilpriyadharshinik\\appdata\\local\\programs\\python\\python312\\lib\\site-packages (from langchain) (3.9.5)\n",
      "Requirement already satisfied: dataclasses-json<0.7,>=0.5.7 in c:\\users\\ezhilpriyadharshinik\\appdata\\local\\programs\\python\\python312\\lib\\site-packages (from langchain) (0.6.5)\n",
      "Requirement already satisfied: jsonpatch<2.0,>=1.33 in c:\\users\\ezhilpriyadharshinik\\appdata\\local\\programs\\python\\python312\\lib\\site-packages (from langchain) (1.33)\n",
      "Requirement already satisfied: langchain-community<0.1,>=0.0.32 in c:\\users\\ezhilpriyadharshinik\\appdata\\local\\programs\\python\\python312\\lib\\site-packages (from langchain) (0.0.34)\n",
      "Requirement already satisfied: langchain-core<0.2.0,>=0.1.42 in c:\\users\\ezhilpriyadharshinik\\appdata\\local\\programs\\python\\python312\\lib\\site-packages (from langchain) (0.1.46)\n",
      "Requirement already satisfied: langchain-text-splitters<0.1,>=0.0.1 in c:\\users\\ezhilpriyadharshinik\\appdata\\local\\programs\\python\\python312\\lib\\site-packages (from langchain) (0.0.1)\n",
      "Requirement already satisfied: langsmith<0.2.0,>=0.1.17 in c:\\users\\ezhilpriyadharshinik\\appdata\\local\\programs\\python\\python312\\lib\\site-packages (from langchain) (0.1.51)\n",
      "Requirement already satisfied: numpy<2,>=1 in c:\\users\\ezhilpriyadharshinik\\appdata\\local\\programs\\python\\python312\\lib\\site-packages (from langchain) (1.26.4)\n",
      "Requirement already satisfied: pydantic<3,>=1 in c:\\users\\ezhilpriyadharshinik\\appdata\\local\\programs\\python\\python312\\lib\\site-packages (from langchain) (2.7.1)\n",
      "Requirement already satisfied: requests<3,>=2 in c:\\users\\ezhilpriyadharshinik\\appdata\\local\\programs\\python\\python312\\lib\\site-packages (from langchain) (2.31.0)\n",
      "Requirement already satisfied: tenacity<9.0.0,>=8.1.0 in c:\\users\\ezhilpriyadharshinik\\appdata\\local\\programs\\python\\python312\\lib\\site-packages (from langchain) (8.2.3)\n",
      "Requirement already satisfied: aiosignal>=1.1.2 in c:\\users\\ezhilpriyadharshinik\\appdata\\local\\programs\\python\\python312\\lib\\site-packages (from aiohttp<4.0.0,>=3.8.3->langchain) (1.3.1)\n",
      "Requirement already satisfied: attrs>=17.3.0 in c:\\users\\ezhilpriyadharshinik\\appdata\\local\\programs\\python\\python312\\lib\\site-packages (from aiohttp<4.0.0,>=3.8.3->langchain) (23.2.0)\n",
      "Requirement already satisfied: frozenlist>=1.1.1 in c:\\users\\ezhilpriyadharshinik\\appdata\\local\\programs\\python\\python312\\lib\\site-packages (from aiohttp<4.0.0,>=3.8.3->langchain) (1.4.1)\n",
      "Requirement already satisfied: multidict<7.0,>=4.5 in c:\\users\\ezhilpriyadharshinik\\appdata\\local\\programs\\python\\python312\\lib\\site-packages (from aiohttp<4.0.0,>=3.8.3->langchain) (6.0.5)\n",
      "Requirement already satisfied: yarl<2.0,>=1.0 in c:\\users\\ezhilpriyadharshinik\\appdata\\local\\programs\\python\\python312\\lib\\site-packages (from aiohttp<4.0.0,>=3.8.3->langchain) (1.9.4)\n",
      "Requirement already satisfied: marshmallow<4.0.0,>=3.18.0 in c:\\users\\ezhilpriyadharshinik\\appdata\\local\\programs\\python\\python312\\lib\\site-packages (from dataclasses-json<0.7,>=0.5.7->langchain) (3.21.1)\n",
      "Requirement already satisfied: typing-inspect<1,>=0.4.0 in c:\\users\\ezhilpriyadharshinik\\appdata\\local\\programs\\python\\python312\\lib\\site-packages (from dataclasses-json<0.7,>=0.5.7->langchain) (0.9.0)\n",
      "Requirement already satisfied: jsonpointer>=1.9 in c:\\users\\ezhilpriyadharshinik\\appdata\\local\\programs\\python\\python312\\lib\\site-packages (from jsonpatch<2.0,>=1.33->langchain) (2.4)\n",
      "Requirement already satisfied: packaging<24.0,>=23.2 in c:\\users\\ezhilpriyadharshinik\\appdata\\local\\programs\\python\\python312\\lib\\site-packages (from langchain-core<0.2.0,>=0.1.42->langchain) (23.2)\n",
      "Requirement already satisfied: orjson<4.0.0,>=3.9.14 in c:\\users\\ezhilpriyadharshinik\\appdata\\local\\programs\\python\\python312\\lib\\site-packages (from langsmith<0.2.0,>=0.1.17->langchain) (3.10.1)\n",
      "Requirement already satisfied: annotated-types>=0.4.0 in c:\\users\\ezhilpriyadharshinik\\appdata\\local\\programs\\python\\python312\\lib\\site-packages (from pydantic<3,>=1->langchain) (0.6.0)\n",
      "Requirement already satisfied: pydantic-core==2.18.2 in c:\\users\\ezhilpriyadharshinik\\appdata\\local\\programs\\python\\python312\\lib\\site-packages (from pydantic<3,>=1->langchain) (2.18.2)\n",
      "Requirement already satisfied: typing-extensions>=4.6.1 in c:\\users\\ezhilpriyadharshinik\\appdata\\local\\programs\\python\\python312\\lib\\site-packages (from pydantic<3,>=1->langchain) (4.11.0)\n",
      "Requirement already satisfied: charset-normalizer<4,>=2 in c:\\users\\ezhilpriyadharshinik\\appdata\\local\\programs\\python\\python312\\lib\\site-packages (from requests<3,>=2->langchain) (3.3.2)\n",
      "Requirement already satisfied: idna<4,>=2.5 in c:\\users\\ezhilpriyadharshinik\\appdata\\local\\programs\\python\\python312\\lib\\site-packages (from requests<3,>=2->langchain) (3.7)\n",
      "Requirement already satisfied: urllib3<3,>=1.21.1 in c:\\users\\ezhilpriyadharshinik\\appdata\\local\\programs\\python\\python312\\lib\\site-packages (from requests<3,>=2->langchain) (2.2.1)\n",
      "Requirement already satisfied: certifi>=2017.4.17 in c:\\users\\ezhilpriyadharshinik\\appdata\\local\\programs\\python\\python312\\lib\\site-packages (from requests<3,>=2->langchain) (2024.2.2)\n",
      "Requirement already satisfied: greenlet!=0.4.17 in c:\\users\\ezhilpriyadharshinik\\appdata\\local\\programs\\python\\python312\\lib\\site-packages (from SQLAlchemy<3,>=1.4->langchain) (3.0.3)\n",
      "Requirement already satisfied: mypy-extensions>=0.3.0 in c:\\users\\ezhilpriyadharshinik\\appdata\\local\\programs\\python\\python312\\lib\\site-packages (from typing-inspect<1,>=0.4.0->dataclasses-json<0.7,>=0.5.7->langchain) (1.0.0)\n",
      "Collecting tiktoken\n",
      "  Downloading tiktoken-0.6.0-cp312-cp312-win_amd64.whl.metadata (6.8 kB)\n",
      "Collecting regex>=2022.1.18 (from tiktoken)\n",
      "  Downloading regex-2024.4.28-cp312-cp312-win_amd64.whl.metadata (41 kB)\n",
      "     ---------------------------------------- 0.0/41.9 kB ? eta -:--:--\n",
      "     --------------------------- ---------- 30.7/41.9 kB 660.6 kB/s eta 0:00:01\n",
      "     -------------------------------------- 41.9/41.9 kB 674.1 kB/s eta 0:00:00\n",
      "Requirement already satisfied: requests>=2.26.0 in c:\\users\\ezhilpriyadharshinik\\appdata\\local\\programs\\python\\python312\\lib\\site-packages (from tiktoken) (2.31.0)\n",
      "Requirement already satisfied: charset-normalizer<4,>=2 in c:\\users\\ezhilpriyadharshinik\\appdata\\local\\programs\\python\\python312\\lib\\site-packages (from requests>=2.26.0->tiktoken) (3.3.2)\n",
      "Requirement already satisfied: idna<4,>=2.5 in c:\\users\\ezhilpriyadharshinik\\appdata\\local\\programs\\python\\python312\\lib\\site-packages (from requests>=2.26.0->tiktoken) (3.7)\n",
      "Requirement already satisfied: urllib3<3,>=1.21.1 in c:\\users\\ezhilpriyadharshinik\\appdata\\local\\programs\\python\\python312\\lib\\site-packages (from requests>=2.26.0->tiktoken) (2.2.1)\n",
      "Requirement already satisfied: certifi>=2017.4.17 in c:\\users\\ezhilpriyadharshinik\\appdata\\local\\programs\\python\\python312\\lib\\site-packages (from requests>=2.26.0->tiktoken) (2024.2.2)\n",
      "Downloading tiktoken-0.6.0-cp312-cp312-win_amd64.whl (798 kB)\n",
      "   ---------------------------------------- 0.0/798.3 kB ? eta -:--:--\n",
      "   ------- -------------------------------- 143.4/798.3 kB 4.3 MB/s eta 0:00:01\n",
      "   ------------- -------------------------- 266.2/798.3 kB 4.1 MB/s eta 0:00:01\n",
      "   ------------------------- -------------- 512.0/798.3 kB 4.0 MB/s eta 0:00:01\n",
      "   ----------------------------------- ---- 716.8/798.3 kB 4.1 MB/s eta 0:00:01\n",
      "   ---------------------------------------- 798.3/798.3 kB 4.2 MB/s eta 0:00:00\n",
      "Downloading regex-2024.4.28-cp312-cp312-win_amd64.whl (268 kB)\n",
      "   ---------------------------------------- 0.0/268.5 kB ? eta -:--:--\n",
      "   ---------------------------- ----------- 194.6/268.5 kB 5.8 MB/s eta 0:00:01\n",
      "   ---------------------------------------- 268.5/268.5 kB 3.3 MB/s eta 0:00:00\n",
      "Installing collected packages: regex, tiktoken\n",
      "Successfully installed regex-2024.4.28 tiktoken-0.6.0\n",
      "Requirement already satisfied: langchain[docarray] in c:\\users\\ezhilpriyadharshinik\\appdata\\local\\programs\\python\\python312\\lib\\site-packages (0.1.16)\n",
      "Requirement already satisfied: PyYAML>=5.3 in c:\\users\\ezhilpriyadharshinik\\appdata\\local\\programs\\python\\python312\\lib\\site-packages (from langchain[docarray]) (6.0.1)\n",
      "Requirement already satisfied: SQLAlchemy<3,>=1.4 in c:\\users\\ezhilpriyadharshinik\\appdata\\local\\programs\\python\\python312\\lib\\site-packages (from langchain[docarray]) (2.0.29)\n",
      "Requirement already satisfied: aiohttp<4.0.0,>=3.8.3 in c:\\users\\ezhilpriyadharshinik\\appdata\\local\\programs\\python\\python312\\lib\\site-packages (from langchain[docarray]) (3.9.5)\n",
      "Requirement already satisfied: dataclasses-json<0.7,>=0.5.7 in c:\\users\\ezhilpriyadharshinik\\appdata\\local\\programs\\python\\python312\\lib\\site-packages (from langchain[docarray]) (0.6.5)\n",
      "Collecting docarray<0.33.0,>=0.32.0 (from docarray[hnswlib]<0.33.0,>=0.32.0; extra == \"docarray\"->langchain[docarray])\n",
      "  Downloading docarray-0.32.1-py3-none-any.whl.metadata (30 kB)\n",
      "Requirement already satisfied: jsonpatch<2.0,>=1.33 in c:\\users\\ezhilpriyadharshinik\\appdata\\local\\programs\\python\\python312\\lib\\site-packages (from langchain[docarray]) (1.33)\n",
      "Requirement already satisfied: langchain-community<0.1,>=0.0.32 in c:\\users\\ezhilpriyadharshinik\\appdata\\local\\programs\\python\\python312\\lib\\site-packages (from langchain[docarray]) (0.0.34)\n",
      "Requirement already satisfied: langchain-core<0.2.0,>=0.1.42 in c:\\users\\ezhilpriyadharshinik\\appdata\\local\\programs\\python\\python312\\lib\\site-packages (from langchain[docarray]) (0.1.46)\n",
      "Requirement already satisfied: langchain-text-splitters<0.1,>=0.0.1 in c:\\users\\ezhilpriyadharshinik\\appdata\\local\\programs\\python\\python312\\lib\\site-packages (from langchain[docarray]) (0.0.1)\n",
      "Requirement already satisfied: langsmith<0.2.0,>=0.1.17 in c:\\users\\ezhilpriyadharshinik\\appdata\\local\\programs\\python\\python312\\lib\\site-packages (from langchain[docarray]) (0.1.51)\n",
      "Requirement already satisfied: numpy<2,>=1 in c:\\users\\ezhilpriyadharshinik\\appdata\\local\\programs\\python\\python312\\lib\\site-packages (from langchain[docarray]) (1.26.4)\n",
      "Requirement already satisfied: pydantic<3,>=1 in c:\\users\\ezhilpriyadharshinik\\appdata\\local\\programs\\python\\python312\\lib\\site-packages (from langchain[docarray]) (2.7.1)\n",
      "Requirement already satisfied: requests<3,>=2 in c:\\users\\ezhilpriyadharshinik\\appdata\\local\\programs\\python\\python312\\lib\\site-packages (from langchain[docarray]) (2.31.0)\n",
      "Requirement already satisfied: tenacity<9.0.0,>=8.1.0 in c:\\users\\ezhilpriyadharshinik\\appdata\\local\\programs\\python\\python312\\lib\\site-packages (from langchain[docarray]) (8.2.3)\n",
      "Requirement already satisfied: aiosignal>=1.1.2 in c:\\users\\ezhilpriyadharshinik\\appdata\\local\\programs\\python\\python312\\lib\\site-packages (from aiohttp<4.0.0,>=3.8.3->langchain[docarray]) (1.3.1)\n",
      "Requirement already satisfied: attrs>=17.3.0 in c:\\users\\ezhilpriyadharshinik\\appdata\\local\\programs\\python\\python312\\lib\\site-packages (from aiohttp<4.0.0,>=3.8.3->langchain[docarray]) (23.2.0)\n",
      "Requirement already satisfied: frozenlist>=1.1.1 in c:\\users\\ezhilpriyadharshinik\\appdata\\local\\programs\\python\\python312\\lib\\site-packages (from aiohttp<4.0.0,>=3.8.3->langchain[docarray]) (1.4.1)\n",
      "Requirement already satisfied: multidict<7.0,>=4.5 in c:\\users\\ezhilpriyadharshinik\\appdata\\local\\programs\\python\\python312\\lib\\site-packages (from aiohttp<4.0.0,>=3.8.3->langchain[docarray]) (6.0.5)\n",
      "Requirement already satisfied: yarl<2.0,>=1.0 in c:\\users\\ezhilpriyadharshinik\\appdata\\local\\programs\\python\\python312\\lib\\site-packages (from aiohttp<4.0.0,>=3.8.3->langchain[docarray]) (1.9.4)\n",
      "Requirement already satisfied: marshmallow<4.0.0,>=3.18.0 in c:\\users\\ezhilpriyadharshinik\\appdata\\local\\programs\\python\\python312\\lib\\site-packages (from dataclasses-json<0.7,>=0.5.7->langchain[docarray]) (3.21.1)\n",
      "Requirement already satisfied: typing-inspect<1,>=0.4.0 in c:\\users\\ezhilpriyadharshinik\\appdata\\local\\programs\\python\\python312\\lib\\site-packages (from dataclasses-json<0.7,>=0.5.7->langchain[docarray]) (0.9.0)\n",
      "Requirement already satisfied: orjson>=3.8.2 in c:\\users\\ezhilpriyadharshinik\\appdata\\local\\programs\\python\\python312\\lib\\site-packages (from docarray<0.33.0,>=0.32.0->docarray[hnswlib]<0.33.0,>=0.32.0; extra == \"docarray\"->langchain[docarray]) (3.10.1)\n",
      "Collecting rich>=13.1.0 (from docarray<0.33.0,>=0.32.0->docarray[hnswlib]<0.33.0,>=0.32.0; extra == \"docarray\"->langchain[docarray])\n",
      "  Downloading rich-13.7.1-py3-none-any.whl.metadata (18 kB)\n",
      "Collecting types-requests>=2.28.11.6 (from docarray<0.33.0,>=0.32.0->docarray[hnswlib]<0.33.0,>=0.32.0; extra == \"docarray\"->langchain[docarray])\n",
      "  Downloading types_requests-2.31.0.20240406-py3-none-any.whl.metadata (1.8 kB)\n",
      "Collecting hnswlib>=0.6.2 (from docarray[hnswlib]<0.33.0,>=0.32.0; extra == \"docarray\"->langchain[docarray])\n",
      "  Downloading hnswlib-0.8.0.tar.gz (36 kB)\n",
      "  Installing build dependencies: started\n",
      "  Installing build dependencies: finished with status 'done'\n",
      "  Getting requirements to build wheel: started\n",
      "  Getting requirements to build wheel: finished with status 'done'\n",
      "  Preparing metadata (pyproject.toml): started\n",
      "  Preparing metadata (pyproject.toml): finished with status 'done'\n",
      "Collecting protobuf>=3.19.0 (from docarray[hnswlib]<0.33.0,>=0.32.0; extra == \"docarray\"->langchain[docarray])\n",
      "  Downloading protobuf-5.26.1-cp310-abi3-win_amd64.whl.metadata (592 bytes)\n",
      "Requirement already satisfied: jsonpointer>=1.9 in c:\\users\\ezhilpriyadharshinik\\appdata\\local\\programs\\python\\python312\\lib\\site-packages (from jsonpatch<2.0,>=1.33->langchain[docarray]) (2.4)\n",
      "Requirement already satisfied: packaging<24.0,>=23.2 in c:\\users\\ezhilpriyadharshinik\\appdata\\local\\programs\\python\\python312\\lib\\site-packages (from langchain-core<0.2.0,>=0.1.42->langchain[docarray]) (23.2)\n",
      "Requirement already satisfied: annotated-types>=0.4.0 in c:\\users\\ezhilpriyadharshinik\\appdata\\local\\programs\\python\\python312\\lib\\site-packages (from pydantic<3,>=1->langchain[docarray]) (0.6.0)\n",
      "Requirement already satisfied: pydantic-core==2.18.2 in c:\\users\\ezhilpriyadharshinik\\appdata\\local\\programs\\python\\python312\\lib\\site-packages (from pydantic<3,>=1->langchain[docarray]) (2.18.2)\n",
      "Requirement already satisfied: typing-extensions>=4.6.1 in c:\\users\\ezhilpriyadharshinik\\appdata\\local\\programs\\python\\python312\\lib\\site-packages (from pydantic<3,>=1->langchain[docarray]) (4.11.0)\n",
      "Requirement already satisfied: charset-normalizer<4,>=2 in c:\\users\\ezhilpriyadharshinik\\appdata\\local\\programs\\python\\python312\\lib\\site-packages (from requests<3,>=2->langchain[docarray]) (3.3.2)\n",
      "Requirement already satisfied: idna<4,>=2.5 in c:\\users\\ezhilpriyadharshinik\\appdata\\local\\programs\\python\\python312\\lib\\site-packages (from requests<3,>=2->langchain[docarray]) (3.7)\n",
      "Requirement already satisfied: urllib3<3,>=1.21.1 in c:\\users\\ezhilpriyadharshinik\\appdata\\local\\programs\\python\\python312\\lib\\site-packages (from requests<3,>=2->langchain[docarray]) (2.2.1)\n",
      "Requirement already satisfied: certifi>=2017.4.17 in c:\\users\\ezhilpriyadharshinik\\appdata\\local\\programs\\python\\python312\\lib\\site-packages (from requests<3,>=2->langchain[docarray]) (2024.2.2)\n",
      "Requirement already satisfied: greenlet!=0.4.17 in c:\\users\\ezhilpriyadharshinik\\appdata\\local\\programs\\python\\python312\\lib\\site-packages (from SQLAlchemy<3,>=1.4->langchain[docarray]) (3.0.3)\n",
      "Collecting markdown-it-py>=2.2.0 (from rich>=13.1.0->docarray<0.33.0,>=0.32.0->docarray[hnswlib]<0.33.0,>=0.32.0; extra == \"docarray\"->langchain[docarray])\n",
      "  Downloading markdown_it_py-3.0.0-py3-none-any.whl.metadata (6.9 kB)\n",
      "Requirement already satisfied: pygments<3.0.0,>=2.13.0 in c:\\users\\ezhilpriyadharshinik\\appdata\\roaming\\python\\python312\\site-packages (from rich>=13.1.0->docarray<0.33.0,>=0.32.0->docarray[hnswlib]<0.33.0,>=0.32.0; extra == \"docarray\"->langchain[docarray]) (2.17.2)\n",
      "Requirement already satisfied: mypy-extensions>=0.3.0 in c:\\users\\ezhilpriyadharshinik\\appdata\\local\\programs\\python\\python312\\lib\\site-packages (from typing-inspect<1,>=0.4.0->dataclasses-json<0.7,>=0.5.7->langchain[docarray]) (1.0.0)\n",
      "Collecting mdurl~=0.1 (from markdown-it-py>=2.2.0->rich>=13.1.0->docarray<0.33.0,>=0.32.0->docarray[hnswlib]<0.33.0,>=0.32.0; extra == \"docarray\"->langchain[docarray])\n",
      "  Downloading mdurl-0.1.2-py3-none-any.whl.metadata (1.6 kB)\n",
      "Downloading docarray-0.32.1-py3-none-any.whl (215 kB)\n",
      "   ---------------------------------------- 0.0/215.3 kB ? eta -:--:--\n",
      "   ---------------------------------------  215.0/215.3 kB 4.4 MB/s eta 0:00:01\n",
      "   ---------------------------------------- 215.3/215.3 kB 4.4 MB/s eta 0:00:00\n",
      "Downloading protobuf-5.26.1-cp310-abi3-win_amd64.whl (420 kB)\n",
      "   ---------------------------------------- 0.0/420.9 kB ? eta -:--:--\n",
      "   -------------------- ------------------- 215.0/420.9 kB 4.4 MB/s eta 0:00:01\n",
      "   ---------------------------------------- 420.9/420.9 kB 4.4 MB/s eta 0:00:00\n",
      "Downloading rich-13.7.1-py3-none-any.whl (240 kB)\n",
      "   ---------------------------------------- 0.0/240.7 kB ? eta -:--:--\n",
      "   -------------------------------- ------- 194.6/240.7 kB 5.9 MB/s eta 0:00:01\n",
      "   ---------------------------------------- 240.7/240.7 kB 5.0 MB/s eta 0:00:00\n",
      "Downloading types_requests-2.31.0.20240406-py3-none-any.whl (15 kB)\n",
      "Downloading markdown_it_py-3.0.0-py3-none-any.whl (87 kB)\n",
      "   ---------------------------------------- 0.0/87.5 kB ? eta -:--:--\n",
      "   ---------------------------------------- 87.5/87.5 kB ? eta 0:00:00\n",
      "Downloading mdurl-0.1.2-py3-none-any.whl (10.0 kB)\n",
      "Building wheels for collected packages: hnswlib\n",
      "  Building wheel for hnswlib (pyproject.toml): started\n",
      "  Building wheel for hnswlib (pyproject.toml): finished with status 'error'\n",
      "Failed to build hnswlib\n"
     ]
    },
    {
     "name": "stderr",
     "output_type": "stream",
     "text": [
      "  error: subprocess-exited-with-error\n",
      "  \n",
      "  × Building wheel for hnswlib (pyproject.toml) did not run successfully.\n",
      "  │ exit code: 1\n",
      "  ╰─> [5 lines of output]\n",
      "      running bdist_wheel\n",
      "      running build\n",
      "      running build_ext\n",
      "      building 'hnswlib' extension\n",
      "      error: Microsoft Visual C++ 14.0 or greater is required. Get it with \"Microsoft C++ Build Tools\": https://visualstudio.microsoft.com/visual-cpp-build-tools/\n",
      "      [end of output]\n",
      "  \n",
      "  note: This error originates from a subprocess, and is likely not a problem with pip.\n",
      "  ERROR: Failed building wheel for hnswlib\n",
      "ERROR: Could not build wheels for hnswlib, which is required to install pyproject.toml-based projects\n"
     ]
    }
   ],
   "source": [
    "!pip install openai\n",
    "!pip install chromadb  #  restart the kernel once after installing this lib.\n",
    "!pip install lark\n",
    "!pip install pypdf\n",
    "!pip install langchain\n",
    "!pip install pypdf\n",
    "!pip install yt_dlp\n",
    "!pip install langchain\n",
    "!pip install tiktoken\n",
    "!pip install \"langchain[docarray]\"\n",
    "pip install chroma-hnswlib\n",
    "pip install dotenv"
   ]
  },
  {
   "cell_type": "code",
   "execution_count": null,
   "metadata": {},
   "outputs": [],
   "source": [
    "import os\n",
    "from openai import OpenAI \n",
    "import openai\n",
    "import sys\n",
    "from langchain.document_loaders import PyPDFLoader, WebBaseLoader\n",
    "#from dotenv import load_dotenv, find_dotenv\n",
    "from langchain.document_loaders import PyPDFLoader\n",
    "from langchain.document_loaders import WebBaseLoader\n",
    "from langchain.document_loaders.generic import GenericLoader\n",
    "from langchain.document_loaders.parsers import OpenAIWhisperParser\n",
    "from langchain.document_loaders.blob_loaders.youtube_audio import YoutubeAudioLoader\n",
    "from langchain.text_splitter import RecursiveCharacterTextSplitter, CharacterTextSplitter\n",
    "from langchain.text_splitter import RecursiveCharacterTextSplitter\n",
    "from langchain.embeddings.openai import OpenAIEmbeddings\n",
    "from langchain.vectorstores import Chroma\n",
    "from langchain.chat_models import ChatOpenAI\n",
    "from langchain.chains import RetrievalQA\n",
    "from langchain.prompts import PromptTemplate\n",
    "from langchain.chains import ConversationalRetrievalChain\n",
    "from langchain.memory import ConversationBufferMemory\n",
    "import tiktoken"
   ]
  },
  {
   "cell_type": "code",
   "execution_count": null,
   "metadata": {},
   "outputs": [],
   "source": [
    "def num_tokens_from_messages(messages, model=\"gpt-3.5-turbo-0613\"):\n",
    "  \"\"\"Returns the number of tokens used by a list of messages.\"\"\"\n",
    "  try:\n",
    "      encoding = tiktoken.encoding_for_model(model)\n",
    "  except KeyError:\n",
    "      encoding = tiktoken.get_encoding(\"cl100k_base\")\n",
    "  if model == \"gpt-3.5-turbo-0613\":  # note: future models may deviate from this\n",
    "      num_tokens = 0\n",
    "      for message in messages:\n",
    "          num_tokens += 4  # every message follows <im_start>{role/name}\\n{content}<im_end>\\n\n",
    "          for key, value in message.items():\n",
    "              num_tokens += len(encoding.encode(value))\n",
    "              if key == \"name\":  # if there's a name, the role is omitted\n",
    "                  num_tokens += -1  # role is always required and always 1 token\n",
    "      num_tokens += 2  # every reply is primed with <im_start>assistant\n",
    "      return num_tokens\n",
    "  else:\n",
    "      raise NotImplementedError(f\"\"\"num_tokens_from_messages() is not presently implemented for model {model}.\"\"\")"
   ]
  },
  {
   "cell_type": "code",
   "execution_count": 2,
   "metadata": {},
   "outputs": [],
   "source": [
    "import os\n",
    "from openai import OpenAI \n",
    "import openai\n",
    "import sys\n",
    "from langchain.document_loaders import PyPDFLoader, WebBaseLoader\n",
    "#from dotenv import load_dotenv, find_dotenv\n",
    "from langchain.document_loaders import PyPDFLoader\n",
    "from langchain.document_loaders import WebBaseLoader\n",
    "from langchain.document_loaders.generic import GenericLoader\n",
    "from langchain.document_loaders.parsers import OpenAIWhisperParser\n",
    "from langchain.document_loaders.blob_loaders.youtube_audio import YoutubeAudioLoader\n",
    "from langchain.text_splitter import RecursiveCharacterTextSplitter, CharacterTextSplitter\n",
    "from langchain.text_splitter import RecursiveCharacterTextSplitter\n",
    "from langchain.embeddings.openai import OpenAIEmbeddings\n",
    "from langchain.vectorstores import Chroma\n",
    "from langchain.chat_models import ChatOpenAI\n",
    "from langchain.chains import RetrievalQA\n",
    "from langchain.prompts import PromptTemplate\n",
    "from langchain.chains import ConversationalRetrievalChain\n",
    "from langchain.memory import ConversationBufferMemory\n",
    "import tiktoken"
   ]
  },
  {
   "cell_type": "code",
   "execution_count": 3,
   "metadata": {},
   "outputs": [],
   "source": [
    "from langchain.embeddings.openai import OpenAIEmbeddings"
   ]
  },
  {
   "cell_type": "code",
   "execution_count": 7,
   "metadata": {},
   "outputs": [
    {
     "ename": "ModuleNotFoundError",
     "evalue": "No module named 'dotenv'",
     "output_type": "error",
     "traceback": [
      "\u001b[1;31m---------------------------------------------------------------------------\u001b[0m",
      "\u001b[1;31mModuleNotFoundError\u001b[0m                       Traceback (most recent call last)",
      "Cell \u001b[1;32mIn[7], line 1\u001b[0m\n\u001b[1;32m----> 1\u001b[0m \u001b[38;5;28;01mimport\u001b[39;00m \u001b[38;5;21;01mdotenv\u001b[39;00m\n\u001b[0;32m      2\u001b[0m \u001b[38;5;28;01mfrom\u001b[39;00m \u001b[38;5;21;01mdotenv\u001b[39;00m \u001b[38;5;28;01mimport\u001b[39;00m load_dotenv, find_dotenv\n",
      "\u001b[1;31mModuleNotFoundError\u001b[0m: No module named 'dotenv'"
     ]
    }
   ],
   "source": [
    "import dotenv\n",
    "from dotenv import load_dotenv, find_dotenv"
   ]
  },
  {
   "cell_type": "code",
   "execution_count": 4,
   "metadata": {},
   "outputs": [],
   "source": [
    "sys.path.append('../..')\n",
    "#from dotenv import load_dotenv, find_dotenv = load_dotenv(find_dotenv())\n",
    "OpenAI.api_key = \"\"\n",
    "os.environ['OPENAI_API_KEY'] = OpenAI.api_key\n",
    "OpenAI.api_key = os.environ['OPENAI_API_KEY']"
   ]
  },
  {
   "cell_type": "code",
   "execution_count": 5,
   "metadata": {},
   "outputs": [
    {
     "name": "stdout",
     "output_type": "stream",
     "text": [
      "This is a test.\n"
     ]
    }
   ],
   "source": [
    "client = OpenAI(\n",
    "    # This is the default and can be omitted\n",
    "    api_key=OpenAI.api_key,\n",
    ")\n",
    "chat_completion = client.chat.completions.create(\n",
    "    messages=[\n",
    "        {\n",
    "            \"role\": \"user\",\n",
    "            \"content\": \"Say this is a test\",\n",
    "        }\n",
    "    ],\n",
    "    model=\"gpt-3.5-turbo\",\n",
    ")\n",
    "print(chat_completion.choices[0].message.content)"
   ]
  },
  {
   "cell_type": "code",
   "execution_count": 6,
   "metadata": {},
   "outputs": [
    {
     "name": "stdout",
     "output_type": "stream",
     "text": [
      " \n",
      "{\n",
      "    \"winner\": \"Los Angeles Dodgers\",\n",
      "    \"year\": 2020\n",
      "}\n"
     ]
    }
   ],
   "source": [
    "from openai import OpenAI\n",
    "client = OpenAI()\n",
    "\n",
    "response = client.chat.completions.create(\n",
    "  model=\"gpt-3.5-turbo-0125\",\n",
    "  response_format={ \"type\": \"json_object\" },\n",
    "  messages=[\n",
    "    {\"role\": \"system\", \"content\": \"You are a helpful assistant designed to output JSON.\"},\n",
    "    {\"role\": \"user\", \"content\": \"Who won the world series in 2020?\"}\n",
    "  ]\n",
    ")\n",
    "print(response.choices[0].message.content)"
   ]
  },
  {
   "cell_type": "code",
   "execution_count": 7,
   "metadata": {},
   "outputs": [],
   "source": [
    "def num_tokens_from_messages(messages, model=\"gpt-3.5-turbo-0613\"):\n",
    "  \"\"\"Returns the number of tokens used by a list of messages.\"\"\"\n",
    "  try:\n",
    "      encoding = tiktoken.encoding_for_model(model)\n",
    "  except KeyError:\n",
    "      encoding = tiktoken.get_encoding(\"cl100k_base\")\n",
    "  if model == \"gpt-3.5-turbo-0613\":  # note: future models may deviate from this\n",
    "      num_tokens = 0\n",
    "      for message in messages:\n",
    "          num_tokens += 4  # every message follows <im_start>{role/name}\\n{content}<im_end>\\n\n",
    "          for key, value in message.items():\n",
    "              num_tokens += len(encoding.encode(value))\n",
    "              if key == \"name\":  # if there's a name, the role is omitted\n",
    "                  num_tokens += -1  # role is always required and always 1 token\n",
    "      num_tokens += 2  # every reply is primed with <im_start>assistant\n",
    "      return num_tokens\n",
    "  else:\n",
    "      raise NotImplementedError(f\"\"\"num_tokens_from_messages() is not presently implemented for model {model}.\"\"\")"
   ]
  },
  {
   "cell_type": "code",
   "execution_count": 8,
   "metadata": {},
   "outputs": [
    {
     "name": "stdout",
     "output_type": "stream",
     "text": [
      "126 prompt tokens counted.\n"
     ]
    }
   ],
   "source": [
    "messages = [\n",
    "  {\"role\": \"system\", \"content\": \"You are a helpful, pattern-following assistant that translates corporate jargon into plain English.\"},\n",
    "  {\"role\": \"system\", \"name\":\"example_user\", \"content\": \"New synergies will help drive top-line growth.\"},\n",
    "  {\"role\": \"system\", \"name\": \"example_assistant\", \"content\": \"Things working well together will increase revenue.\"},\n",
    "  {\"role\": \"system\", \"name\":\"example_user\", \"content\": \"Let's circle back when we have more bandwidth to touch base on opportunities for increased leverage.\"},\n",
    "  {\"role\": \"system\", \"name\": \"example_assistant\", \"content\": \"Let's talk later when we're less busy about how to do better.\"},\n",
    "  {\"role\": \"user\", \"content\": \"This late pivot means we don't have time to boil the ocean for the client deliverable.\"},\n",
    "]\n",
    "\n",
    "model = \"gpt-3.5-turbo-0613\"\n",
    "\n",
    "print(f\"{num_tokens_from_messages(messages, model)} prompt tokens counted.\")"
   ]
  },
  {
   "cell_type": "code",
   "execution_count": 9,
   "metadata": {},
   "outputs": [
    {
     "name": "stdout",
     "output_type": "stream",
     "text": [
      "129 prompt tokens used.\n"
     ]
    }
   ],
   "source": [
    "# example token count from the OpenAI API\n",
    "from openai import OpenAI\n",
    "client = OpenAI()\n",
    "\n",
    "response = client.chat.completions.create(\n",
    "  model=model,\n",
    "  messages=messages,\n",
    "  temperature=0,\n",
    ")\n",
    "\n",
    "print(f'{response.usage.prompt_tokens} prompt tokens used.')"
   ]
  },
  {
   "cell_type": "code",
   "execution_count": 10,
   "metadata": {},
   "outputs": [
    {
     "name": "stdout",
     "output_type": "stream",
     "text": [
      "10 prompt tokens used.\n",
      "\n",
      "\"Securing your digital identity, one access at a time.\"\n"
     ]
    }
   ],
   "source": [
    "from openai import OpenAI\n",
    "client = OpenAI()\n",
    "\n",
    "response = client.completions.create(\n",
    "  model=\"gpt-3.5-turbo-instruct\",\n",
    "  prompt=\"Write a tagline for an IAM security company.\"\n",
    ")\n",
    "\n",
    "print(f'{response.usage.prompt_tokens} prompt tokens used.')\n",
    "print(response.choices[0].text)"
   ]
  },
  {
   "cell_type": "code",
   "execution_count": 30,
   "metadata": {},
   "outputs": [
    {
     "data": {
      "text/plain": [
       "Completion(id='cmpl-9K5CgdfcZBOgRwxgiZuj1ctGmkEtF', choices=[CompletionChoice(finish_reason='stop', index=0, logprobs=None, text='\\n\\n\"Protect Your Identity and Identity Assets with Our Robust IAM Solutions.\"')], created=1714573590, model='gpt-3.5-turbo-instruct', object='text_completion', system_fingerprint=None, usage=CompletionUsage(completion_tokens=15, prompt_tokens=10, total_tokens=25))"
      ]
     },
     "execution_count": 30,
     "metadata": {},
     "output_type": "execute_result"
    }
   ],
   "source": [
    "response"
   ]
  },
  {
   "cell_type": "code",
   "execution_count": 31,
   "metadata": {},
   "outputs": [
    {
     "name": "stdout",
     "output_type": "stream",
     "text": [
      "\n",
      "\n",
      "\"Protect Your Identity and Identity Assets with Our Robust IAM Solutions.\"\n"
     ]
    }
   ],
   "source": [
    "print(response.choices[0].text)"
   ]
  },
  {
   "cell_type": "code",
   "execution_count": 11,
   "metadata": {},
   "outputs": [
    {
     "data": {
      "text/plain": [
       "6413"
      ]
     },
     "execution_count": 11,
     "metadata": {},
     "output_type": "execute_result"
    }
   ],
   "source": [
    "text_splitter = CharacterTextSplitter(\n",
    "    separator=\"\\n\",\n",
    "    chunk_size=1000,\n",
    "    chunk_overlap=150,\n",
    "    length_function=len\n",
    ")\n",
    "loader = PyPDFLoader(r\"C:\\Users\\EzhilPriyadharshiniK\\OneDrive - Infoseck2k\\Desktop\\IAM\\iam-ug.pdf\")\n",
    "pages = loader.load()\n",
    "splits = text_splitter.split_documents(pages)\n",
    "len(splits)"
   ]
  },
  {
   "cell_type": "code",
   "execution_count": 12,
   "metadata": {},
   "outputs": [],
   "source": [
    "import os\n",
    "\n",
    "def read_files_from_folder(folder_path):\n",
    "    file_data = []\n",
    "\n",
    "    for file_name in os.listdir(folder_path):\n",
    "        if file_name.endswith(\".txt\"):\n",
    "            with open(os.path.join(folder_path, file_name), 'r') as file:\n",
    "                content = file.read()\n",
    "                file_data.append({\"file_name\": file_name, \"content\": content})\n",
    "\n",
    "    return file_data\n",
    "\n",
    "folder_path = r\"C:\\Users\\EzhilPriyadharshiniK\\OneDrive - Infoseck2k\\Desktop\\IAM\"\n",
    "file_data = read_files_from_folder(folder_path)\n",
    "from chromadb import chromadb\n",
    "client = chromadb.Client()\n",
    "collection = client.create_collection(\"my-collection\")"
   ]
  },
  {
   "cell_type": "code",
   "execution_count": 13,
   "metadata": {},
   "outputs": [
    {
     "name": "stderr",
     "output_type": "stream",
     "text": [
      "c:\\Users\\EzhilPriyadharshiniK\\AppData\\Local\\Programs\\Python\\Python312\\Lib\\site-packages\\langchain_core\\_api\\deprecation.py:119: LangChainDeprecationWarning: The class `OpenAIEmbeddings` was deprecated in LangChain 0.0.9 and will be removed in 0.2.0. An updated version of the class exists in the langchain-openai package and should be used instead. To use it run `pip install -U langchain-openai` and import as `from langchain_openai import OpenAIEmbeddings`.\n",
      "  warn_deprecated(\n"
     ]
    },
    {
     "name": "stdout",
     "output_type": "stream",
     "text": [
      "[-0.006961732717288528, -0.015200718481012891, -0.006200293150403391, -0.0032036602865942493, -0.015607754879579999, 0.031019010006879552, -0.035987664428431786, 0.0027650429719889786, -0.01329887394272018, -0.03028915112320193, 0.03652102542247413, 0.020660626008556587, 0.00585641718692873, 0.0062178378709272794, 0.0046633785196107825, -0.022190522658007382, 0.011179476173782872, 0.009600454120600673, 0.006112569547783949, -0.020744839922013182, -0.02707496316610302, 0.0044388063763017875, -0.028183788385625665, -0.011754941330585758, -0.02088519768620429, 0.014639288355571049, 0.015874434445278585, 0.0034299868088233753, 0.0017070982336098086, 0.004473895817349564, 0.03837374269439027, -0.020169373833887713, -0.022794060671500107, 0.0020702732965284885, -0.013495374626323213, 0.0068775178725093465, -0.0011439137292478352, -0.03522973548203208, 0.006807339456075086, -0.009417989399681269, 0.0028176771335606436, 0.01601479220946969, 0.023327417940252112, -0.0051405938002734445, -0.019004406626275727, 0.007944234738319815, -0.002956280053170328, 0.0019158800353150463, -0.02123609209668206, 0.012962016426248625, 0.006456445511258611, -0.013818197111433726, -0.020871162654843248, -7.774490312309262e-05, -0.02285020265958945, -0.006930152034081012, 0.010786474806576806, 0.011270708534242575, -0.028675040560294542, -0.01692711581406672, -0.01653411444686065, 0.007698609582307962, -0.013930482950257577, 0.0033966517466957288, 0.0005101118062679372, 0.0027615339813180716, -0.0078108954211318134, 0.004989709762561556, -0.00010060782485523003, -0.011754941330585758, 0.024085348749296985, 0.016141113079654587, 0.0037475454586815577, 0.008168807347290103, 0.025994211734592803, -0.009544311201188748, -0.013600642949466543, -0.015158611524284594, 0.010126794804994739, 0.008077574986830401, 0.011032100893911243, -0.0006162572024560096, -0.0019597418366247674, 0.012456729220218708, 0.015004217797409859, -0.006242400572792982, 0.002386077800297187, 5.011201631928922e-05, 0.03385423162813344, -0.006319596970569057, 0.01462525239288742, 0.028366253106545072, 0.000943027040136815, 0.012723408785917295, 0.020225517684622225, 0.00440371693525401, -0.0029352265748061788, -0.0011325096841903724, 0.007691591600966149, 0.018793869979989067, -0.006919625294898937, -0.003145762755431547, -0.012954997979245519, -0.013614678912150171, -0.03668945324938732, -0.020590447126461034, 0.004744083675227119, -0.024660814837422457, 0.00525638886259885, -0.02484327955834186, -0.05709743565492895, 0.033489302186294624, 0.012484801145585964, -0.0017913127291430205, -0.022976525392419515, -0.027341643663124193, 0.024913458440437415, -0.005116031098407742, -0.0033106827558270634, -0.010758402881209552, 0.02286423955359566, -0.006986294953492937, 0.039243959342258994, -0.02192384402363138, 0.016856936931971166, -0.030092651370921483, -0.02488538651507016, -0.00805652150846625, -0.005172174483480961, -0.008491629832400614, 0.02873118254838388, -0.004737066159546597, -0.006316088212728796, -0.0012184786750590378, -0.012639193941138114, 0.005214281440209259, -0.016660437179690717, -0.007656502159918371, -0.004242305692698754, -0.005305513800668961, 0.012246192573932047, 0.021839628247529615, -0.006772250015027309, -0.0034071784858778036, -0.023874812103010325, 0.03772809772416924, 0.00423528771135694, 0.013397124750182988, 0.003073829494415863, -0.01293394450088137, -0.007200340357619859, -0.0014000662065183776, -0.011881263132093237, -0.017081508609618868, -0.01600075717810865, 0.006126605510467577, -0.03624030989409192, -0.006909098555716863, -0.014112947671176981, -0.02852064590209722, -0.014948074877997933, 0.021685235451977463, 0.016351649725941247, 0.009017970516794682, 0.0051932279618451095, 0.030261079197834675, 0.008021432067418474, -0.00914429231830216, 0.014905967921269634, 0.007284554736737748, -0.00990222219602445, 0.0011079470987399934, -0.022064201787822486, -5.1126322111666995e-06, 0.007831948899495962, 0.03688595486431294, 0.003880885241530851, -0.021586984644514657, -0.014765610157078527, -0.0326190855384259, 0.0012447956394295472, 0.022878274584956705, 0.021306270978777613, 0.017067473578257827, -0.02852064590209722, 0.0025457344311016665, 0.018821941905356323, -0.0015641090174538293, -0.0010140830534847722, 0.0010886479992959746, -0.0034422679269255803, 0.018667549109804175, -0.020562375201093778, -0.004544074233783825, -0.6476656869114645, 0.0018421923953792323, 0.01886404886208462, -0.013235713507627733, 0.0012360233955829262, 0.0013097110355187402, 0.022569487131207235, 0.023720419307458177, -0.03786845548836035, 0.03391037547886795, 0.005414290881652553, 0.02030973159807882, -0.006902080574375049, -0.01702536662152953, -0.0007890723736534053, -0.02852064590209722, 0.012533925617994783, -0.006088007311579539, 0.0010246097926668466, 0.004621271097221192, -0.03298401498026471, 0.0037791259090584274, -0.011425101329794725, 0.0015167383418885245, -0.004175636034104754, -0.007705627563649776, 0.0024246759991852244, -0.008196878341334772, -0.024787135707607353, -0.012919908538197742, -0.028689075591655584, 0.006961732717288528, 0.026401248133159912, -0.007452983960634817, 0.051763851791537904, -0.0129058735068367, -0.0246748498687835, 0.044998616498223364, -0.01698325966480123, 0.0257696400569451, -0.025643317324115036, 0.018990371594914686, 0.038457956607846865, 0.03301208504298679, -0.002294845207006838, 0.008400397471940912, 0.035819236601518596, -0.0062178378709272794, -0.008246003745066177, -0.021572949613153612, 0.008631986665269136, -0.010632081079702071, -0.020857125760837036, 0.018990371594914686, 0.012758498226965072, 0.00549148774508992, 0.034977093741662295, 0.01632357780057399, 0.0013833986754545544, 0.0020422018368225258, -0.011137368285731988, -0.0025141539807247964, -0.015130539598917338, -0.005859925944768991, -0.017432403020096635, -0.005200245943186924, 0.014821753076490453, 0.007467019457657153, -0.02046412439363097, -0.013719947235293501, 0.029587364164891567, -0.005309023024170515, -0.0034966564674173755, -0.009081130951887128, 0.007235429798667635, 0.007796859924109479, 0.013046230339705221, 0.007305608680763189, -0.007438947997951189, 0.00536516594358244, 0.004828298520006299, -0.01195144201418879, -0.005252880104758589, -0.024534493967237562, 0.01977637432932682, -0.001090402378216105, -0.03562273498659298, -0.021123806257858205, 0.011053154372275394, 0.021011520419034355, 0.007614395203190074, 0.012554979096358932, -0.002454502070641964, -0.04022646369159674, -0.0039861533318435345, 0.010274170084866368, -0.017081508609618868, -0.0011579494591008167, -0.011825120212681312, 0.00020351838845845426, -0.0003853252318347259, -0.012035656858967972, 0.018162261903774256, -0.004680923240134671, 0.01388837599352928, -0.004810753799482411, -0.026148604530144955, 0.038261458718211586, 0.04847948308969827, -0.020786946878741483, 0.0006728388330132911, 0.002273791728642689, 0.009333774554902087, 0.008772344429460243, -0.00024277463951260988, -0.032085728269673895, 0.034527946661076545, 0.01588846947663963, 0.015018253760093487, -0.009368863995949864, 0.02327127595216277, -0.010554884681925997, 0.01671657916778006, 0.003645786359039781, 0.005077432899519705, 0.026274925400329847, -0.0009403953553412963, -0.035398163308945275, 0.016267435812484653, -0.0012535679996914914, 0.0056844792051913996, -0.008231967782382549, 0.027397785651213535, -0.006291525510863094, 0.02234491545355953, 0.01967812352186401, 0.02325723905815656, -0.006302052250045168, -0.0014676132874030894, 0.0016755177832329389, -0.014737539163033858, 0.00542832684433618, -0.016239363887117397, -0.010407509402054368, -0.023959027879112093, -0.04533547587734009, -0.013902411956212906, 0.012063727853012643, -0.0018562281252322136, 0.007705627563649776, 0.015411255127299552, -0.0089337556720155, -0.010358383998322965, -0.0006557327654270968, -0.0028124135311389602, -0.01400066183235313, -0.008512683310764765, -0.02694864229591813, -0.01977637432932682, -0.006407320573188499, -0.0044703865938480105, 0.023874812103010325, -0.016772723018514568, -0.0035440272593980035, -0.015874434445278585, 0.0012053201346661213, 0.006512588430670536, 0.011004028968543989, -0.0007614395086774751, -0.017881546375392042, -0.004586181656173415, -0.04207918096351288, 0.007782823961425851, 0.002905400503349439, 0.01073033188716488, 0.012190049654520122, -0.006312578989227243, 0.005172174483480961, -0.015425290158660595, 0.00018312268577403096, 0.0043405560345002705, -0.003930010412431609, -0.013249749470311361, 0.013726964750974022, 0.03795266940181695, 0.0044317883949599735, 0.0275662153407719, -0.010653135489388807, -0.035398163308945275, 0.050556775764552454, -0.01875176302326077, 0.004905494917782374, 0.004087912431485312, -0.004684431997974932, -0.006168712467195875, 0.010246098159499112, -0.00964256107732897, -0.005470433801064478, 0.00592308684552273, 0.012470765182902336, 0.027650429254228493, -0.012786569221009741, 0.02663985484216866, -0.005316040539851036, -0.0064318828093929085, -0.02171330737734472, -0.004828298520006299, -0.009130256355618533, 0.011004028968543989, 0.019509693832305646, 0.004719521439022709, -0.011614584497717236, 0.001850964639225853, -0.028282039193088474, 0.00019452674538340917, 0.011284743565603618, -0.021909807129625168, 0.01692711581406672, -0.015355112207887626, 0.04474597475785357, 0.0123163714560276, -0.019200908241201346, 0.04735662470145976, -0.008168807347290103, 0.017067473578257827, 0.01145317325516198, 0.02123609209668206, 0.03795266940181695, 0.016969222770795017, -0.02009919495179216, -0.015355112207887626, 0.005705532683555548, 0.005645881006303362, 0.00513006706109137, 0.027860965900515153, -0.004565128177809266, -0.015284933325792073, 0.006291525510863094, 0.028857505281213947, 0.008989898591427426, 0.045054760348957876, 0.009937311637072227, 0.04137739586784769, 6.294157428489258e-05, 0.028661003666288327, -0.0003226029549148496, 0.019439514950210093, 0.001228128224781047, -0.002496609260200908, -0.0034457769175964873, -0.009965383562439483, -0.02021148079061601, -0.023229168995434472, -0.0023211622877926706, 0.02082905569811495, -0.012386550338123154, 0.0071863043949362305, -0.025362601795732822, -0.0074249125009288545, 0.026794249500365977, 0.006512588430670536, 0.042556398106820714, 0.006628383492995941, -0.0007092440582511657, -0.019341266005392453, 0.0106461170423857, -0.009698703996740898, -0.005172174483480961, -0.011874245616412716, -0.017881546375392042, 0.01590250637064584, 0.011979513939556046, 0.014639288355571049, -0.004575654916991341, 0.023664277319368834, -0.007207358338961673, 0.029587364164891567, -0.015397219164615924, 0.0026545115120852575, 0.0020527285760046, -0.019102657433738537, -0.024239741544849137, 0.005431835602176441, 0.004442315134142048, -0.001514983846553071, 0.004937075600989891, -0.011495280211890278, 0.03438758889688544, 0.009565364679552896, 0.0019123710446441395, 0.004810753799482411, 0.014891931958586006, -0.0016948169990922807, -0.03012072143364357, -0.0008557422068703903, -0.012393567853803676, 0.035145521568575484, 0.002172032396170266, 0.005105504359225668, -0.002784342071432997, -0.03012072143364357, 0.01842894053815026, -0.04084403487380534, -0.03413494715651565, 0.024352029246318158, 0.005568684142865994, -0.013151498662848551, -0.01946758687557735, 0.030822510254599103, -0.03424723113269433, 0.009017970516794682, -0.0026264400523792943, -0.0019141255399795928, -0.010933850086448435, -0.00711612597850197, 0.027299536706395896, -0.03500516380438438, -0.010547867166245476, 0.03362965995048573, 0.001308833846058675, 0.00014463403370509393, -0.004558110196467452, 0.0010807528284940955, 0.004810753799482411, 0.02850661087073618, 0.0037159652411353342, -0.013228695060624627, 0.019439514950210093, -0.03329280057136901, -1.014302336297873e-05, 0.01121456561483065, -0.038036887040563884, 0.020085159920431115, -0.015172647486968222, -0.0097899363572006, -0.0017378014945266132, -0.007789841942767665, -0.011074207850639542, 0.005800274267516804, 0.00416861805276294, 0.0031685708455464726, -0.009158327349663204, -0.035594664923870895, -0.021727342408705764, 0.008877612752603575, -0.004428279637119712, 0.01828858463660432, 0.028352218075184028, 0.00707401855611238, 0.021895772098264127, 0.020997483525028143, 0.0015088432875019686, 0.012274264499299303, -0.023608133468634326, -0.00921447026907513, 0.0050633974024973695, -0.012197068101523227, 0.031075153857614064, 0.0008066170941772937, 0.012821658662057518, -0.014302430839099493, 0.01072331437148436, -0.004365118736365973, 0.03682981101357843, -0.007551234302436333, 0.01917283631583409, 0.019214943272562388, -0.005821327745880953, 0.03727895436887384, -0.009010952069791574, -0.020660626008556587, 0.03438758889688544, -0.0075091268800467435, -0.005617809546597399, -0.008091610949514027, -0.00847057542271388, -0.008014413620415368, -0.015607754879579999, 0.011249654124555841, -0.005859925944768991, -0.01598672028410244, -0.03694209871504745, -0.012393567853803676, -0.03396651932960246, -0.03500516380438438, 0.001312342720314259, 0.013502393073326319, -0.0011904070989377518, -0.009481149834773715, -0.02546085260319563, -0.025783675088306143, -0.023818670114920986, -0.03828952878093367, -0.01577618363781578, -0.0422756825784385, -0.0051862099805032955, -0.022611595950580703, -0.006189766411221317, 0.02306073930587611, 0.014583145436159123, 0.01885001383072358, -0.001167599008822826, -0.014807717113806825, 0.015509505003439776, -0.025320494839004525, -0.015046325685460741, -0.01147422673352613, -0.005347621223058552, -0.011902316610457386, 0.017530653827559445, -0.0035808710793659108, -0.006726633834797458, 0.004003698052367423, 0.016169185005021843, 0.014246287919687567, 0.017207831342448934, 0.023664277319368834, -0.008407414987621433, 0.017741188611200935, 0.023944990985105878, 0.018190333829141512, 0.034949019953649865, -0.004221252214334605, -0.0033931427560248218, 0.010463652321466295, -0.03028915112320193, -0.0035966611881390223, -0.023874812103010325, -0.00880743387050802, 0.008751290951096094, -0.008603915671224467, -0.009846079276612525, -0.019186871347195135, 0.012583051021726188, -0.016702544136419015, -0.0044844225565316385, -0.025208209000180674, 0.0104706707684694, 0.02071676799664593, 0.008449521944349732, 0.023930955953744837, 0.00416861805276294, -0.015004217797409859, -0.014014697795036758, 0.020281659672711564, -0.024169562662753583, 0.02769253621095679, -0.0003737018894122468, -0.014527002516747196, 0.027355678694485235, 0.034724448276002164, -0.034106877093793564, -0.018204368860502553, 0.048339125325507167, -0.005407273365972031, 0.030008435594819718, 0.004554601438627192, -0.027538143415404642, -0.03320858665791241, -0.014281376429412759, 0.007831948899495962, 0.01834472662469366, -0.0063476684302750195, 0.006273980790339206, -0.008779361945140765, 0.007235429798667635, 0.02213437880727287, -0.01694115084542776, -0.008589879708540839, -0.021095734332490953, -0.0018650004854941578, -0.009937311637072227, -0.008688129584681063, 0.03172079882783509, -0.0015474416028053292, -0.008147753868925954, -0.0017842948642165298, -0.018555263270980324, -0.04412840357564497, -0.03871060207350699, -0.0055546486458436595, -0.018709656066532472, 0.025573138442019482, 0.02888557534393603, 0.027650429254228493, -0.016239363887117397, 0.005070414918177891, 0.007565269799458669, 0.0033352454576927658, -0.016127078048293546, -0.002168523638330005, 0.0033861250075136544, -0.001793944413938539, 0.03012072143364357, 0.008926738156334978, -0.005291478303646627, 0.01004959747589608, 0.016239363887117397, -0.014112947671176981, 0.031299725535261766, -0.007860020824863218, -0.018737727991899728, -0.03584731038953102, -0.04519511811314898, 0.015607754879579999, -0.0246748498687835, 0.006073971348895912, 0.014274358913732238, -0.03407880330578114, -0.00872321902572884, -0.01337607127181884, 0.023453740673082174, 0.030485650875482377, -0.00042677455840245214, 0.021741379302711975, -0.002686091962462127, 0.021208020171314804, -0.012218121579887378, 0.024450278191135797, -0.02694864229591813, -0.0044703865938480105, -0.01661833022296242, 0.002501872629791945, 0.023944990985105878, 0.004417752897937638, 0.0029966328638091418, 0.01364274990619484, -0.004551092215125638, 0.0007215253509763552, 0.017376259169362127, -0.005445871564860068, -0.011965477976872418, 0.004723030196862969, -0.013579589471102394, -0.003817724340777111, -0.03245065771151271, -0.016660437179690717, -0.010091705363946962, -0.010112758842311113, 0.007256483277031784, -0.0209834484936671, 0.012947980463564998, 0.021783486259440273, -0.0212501271280431, 0.006874009114669086, 0.010021526481851409, 0.021544877687786356, 0.005505523242112255, 0.02998036366945246, 0.02790307285724345, -0.0017878038548874366, -0.013958554875624833, -0.042612541957555226, 0.00903902399515883, -0.0005087959638701779, 0.029166290872318246, 0.021081697438484738, -0.0074178945195870405, -0.03828952878093367, 0.012997105867296401, -0.0120496928216516, -0.022625630981941747, -0.045419689790796684, 0.007565269799458669, 0.016492007490132354, 0.02113784128921925, -0.0006465218104351201, -0.016646400285684506, -0.03202958441893938, 0.011179476173782872, -0.004301957835612233, 0.016604293328956205, -0.00718279563709597, -0.01496211084068156, -0.011382994373066427, 0.02181155818480753, -0.014414716677923345, 0.017053438546896782, -0.003989662089683796, 0.019228978303923432, 0.01353748158305151, -0.015972685252741394, 0.005877470665292879, 0.007747734520378074, -0.01280060518369337, 0.01863947718443692, 0.011404047851430576, -0.0209413415369388, -0.01499018183472623, 0.001187775414142233, -0.0089337556720155, -0.024169562662753583, -0.010428562880418518, 0.023495847629810475, -0.009284649151170683, 0.0012597086751579168, -0.0070705097982721185, 0.01692711581406672, -0.0008474084995461404, 0.005835363708564581, 0.00261766769211735, -0.007768788464403516, -0.0016141113778146527, 0.0013798898011989707, 0.027973251739339004, 0.010702259961797625, -0.0164218286080368, -0.01802190413958315, -0.011663708970126056, -0.009712739959424526, -0.01014784828335889, 0.007649484178576558, 0.02176944936543406, -0.04320204307704174, -0.021123806257858205, -0.0015413009273389036, 0.010281187600546889, 0.0044774045751898245, 2.5247904267970406e-05, 0.012393567853803676, 6.09129681571053e-05, 0.010421545364737996, -0.01532704028252037, 0.027425857576580788, 0.03974924654828891, -0.00040922986698239456, -0.02009919495179216, 0.008344253621206402, -0.014134001149541131, -0.024660814837422457, 0.011979513939556046, 0.013846268105478395, -0.032703299451882495, -0.004024751530731572, 0.006333632933252684, -0.015523540966123404, -0.03320858665791241, -0.006958223493786974, 0.006993312934834751, -0.004456351096825676, 0.0033966517466957288, -0.0078108954211318134, -0.007972306663687069, 0.004421261655777898, -0.00953027523850512, 0.023874812103010325, 0.027510071490037386, -0.0023702874586934287, 0.014555074442114452, -0.023018632349147812, -0.012667265866505368, 0.0007899496213211321, -0.012639193941138114, -0.012119870772424568, -0.013130445184484403, 0.01946758687557735, -0.01145317325516198, -0.03840181648240269, -5.7678164676088e-05, 0.026780212606359766, -0.01363573239051432, -0.009761865363155929, 0.019130729359105793, -0.013362035309135212, 0.0038703585023487763, -0.002751007242135997, 0.038036887040563884, 0.019846551348777202, -0.013621696427830692, -0.0010044333873474396, -0.016365686619947462, -0.01724993829917723, -0.02238702241028783, -0.016028827240830736, -0.013719947235293501, 0.03983346046174551, 0.004856369979712263, -0.022274736571463977, 0.0011456682245832887, -0.016772723018514568, -0.01928512215465794, -0.02654160589735102, -0.014976146803365188, -0.013088338227756105, 0.012540944064997889, 0.00423528771135694, 0.017207831342448934, 0.015341076245203998, 0.0130392128240247, 0.007747734520378074, 0.009656597040012599, 0.03761581374799056, 0.013130445184484403, -0.012611122015770857, 0.013677839347242617, -0.01209881729406042, -0.024141492600031497, -0.005116031098407742, 0.017390296063368338, -0.011916352573141014, 0.01426032295104861, 0.0024299393687762616, 0.010709278408800732, -0.01673061606178627, -0.006828392934439234, -0.008281093186113954, 0.009986437040803632, 0.015734076681087478, 0.014330501833144164, -0.02071676799664593, -0.01570600475572022, 0.024352029246318158, 0.010997011452863466, -0.035145521568575484, 0.0022422112782658193, 0.016899043888699464, -0.007221393835984007, -0.00658276731276609, -0.015046325685460741, 0.003691402539269632, 0.01767101159175055, -0.019734265509953348, 0.011783013255953014, -0.00805652150846625, 0.010379438408009698, -0.012112853256744048, 0.00024584494814199184, -0.018400870475428172, 0.0035843800700368178, 0.02913821894695099, -0.009495185797457343, -0.013944518912941205, 0.038654458222772484, -0.019214943272562388, 0.012112853256744048, 0.008231967782382549, 0.002887855782825551, 0.007242447780009449, -0.00748105542034078, -0.023608133468634326, -0.01917283631583409, -0.01885001383072358, 0.0033703346659098962, -0.011060171887955914, 0.003256294215335268, -0.009249559710122906, -0.004775664358434634, -0.012133906735108196, 0.00979695387288112, -0.007319644177785524, 0.000807932936575053, -0.016042864134836948, 0.01280060518369337, -0.009825025798248377, -0.03028915112320193, -0.0006101165851972455, -0.004024751530731572, 0.010765421328212657, 0.03362965995048573, 0.027552180309410854, 0.2232245828579476, 0.013705911272609873, -0.01134790493201865, 0.008877612752603575, -0.0036808758000875575, -0.0054178001051541054, 0.036998238840491623, -0.00017577584569618501, 0.0033808616379226173, 0.018274547742598107, 0.010091705363946962, -0.00228607307957554, 0.0007912654637188914, -0.012765515742645592, -0.01241462226349041, 0.018611405259069663, -0.021011520419034355, 0.009151309833982681, -0.011979513939556046, 0.022569487131207235, 0.0035317459084651523, -0.017362224138001082, -0.012744462264281444, -0.03247872777423479, 0.021516805762419104, -0.003098391963450919, 0.001114964963666484, -0.012554979096358932, 0.01729204525590553, 0.012863765618785817, -0.019762337435320604, -0.0005180069188621548, 0.00906007747352298, -0.005052870197654003, -0.01143211977679783, -0.010084686916943857, -0.02696267732727917, 0.015270897363108445, 0.020660626008556587, 0.026064390616688356, -0.001566740702249348, 0.009509221760140971, -0.01220408561720375, -0.009839061760932005, -0.011832138659684417, 0.014849825001857709, -0.0033931427560248218, -0.02103959048175644, -0.0024159036389232802, -0.0048247892965047464, -0.020899232717565334, -0.016702544136419015, -0.007460001941976631, 0.008603915671224467, -0.01242163977917093, -0.02429588539558365, -0.00963554356164845, 0.005698515167875027, -0.024646779806061416, 0.0036071881601517433, -0.004551092215125638, -0.017572760784287742, -0.008288110701794476, 0.00979695387288112, -0.027762715093052344, 0.022569487131207235, -0.0006188888872515282, 0.015846362519911332, 0.0059336135847048044, -0.005337094483876478, 0.002266773747300875, 0.010997011452863466, -0.0004144932656772626, 0.021222055202675845, -0.016127078048293546, -0.004933566377488337, 0.014653324318254677, 0.022681774832676256, 0.00867409455332002, 0.02071676799664593, -0.016800794943881824, -0.010505760209517177, 0.014555074442114452, 0.001130755188854919, -0.02082905569811495, -0.008982881075746905, 0.02638721310179887, -0.009775900394516972, -0.014246287919687567, 0.011354922447699171, 0.007719663060672111, -0.01147422673352613, -0.013081319780752998, -0.004021242772891311, -0.023495847629810475, -0.002156242287397154, -0.002552752179612834, -0.013748018229338172, 0.002794869043445718, -0.001979040936068786, 0.008996916107107946, 0.060016871189639436, 0.01673061606178627, -0.013242731023308254, -0.0020755366661195256, 0.003010668593662123, -0.0027018820712352387, 0.013909429471893428, 0.0048949681786003, -0.01796576215149381, 0.0007364383284970634, -0.036605239335930725, 0.005796765044015251, -0.012849730587424774, 0.005905542124998842, 0.02061851905182829, -0.0027931144316949413, -0.018260512711237065, 0.02197998601172072, -0.003744036700841297, 0.02009919495179216, -0.007340697656149673, 0.00555815740368392, 0.004186162773286828, -0.004989709762561556, -0.022737916820765598, 0.025516996453930144, -0.005200245943186924, -0.0003612012702182102, -0.028997861182759883, 0.044802118608588085, 0.015748113575093693, 0.022008057937087978, -0.011418083814114204, 0.008077574986830401, -0.009200435237714086, 0.024225706513488095, -0.04031067760505334, -0.007249465295689971, -0.0002093300742216092, 0.01374100071365765, 0.01601479220946969, 0.04005803213939321, 0.009572382195233417, -0.002345724989658373, -0.029222434723052755, 0.024871351483709118, 0.012723408785917295, -0.022499308249111682, -0.03458409051181106, -0.02592403285249725, -0.0040773856923032375, -0.0015325285670769594, -0.020815018804108736, 0.011895299094776865, 0.001938688125429972, -0.03155236727563156, -0.01663236525432346, 0.011228600646191692, 0.005424817620834627, -0.01896229966954743, -0.010344348966961922, 0.03278751336533909, -0.0011833892340112609, -0.014309448354780015, 0.002266773747300875, -0.1815664789122984, 0.005821327745880953, 0.01911669246509958, -0.022822130734222193, 0.013769071707702321, 0.0031352360162494723, 0.007593341259164632, 0.016492007490132354, -0.03730702815688626, 0.020450089362269927, 0.01838683358142196, 0.0257696400569451, -0.013586606986782915, -0.026415283164520954, 0.003166816466626342, 0.0291943627976855, -0.037475455983799456, -0.0009684668150472593, 0.00919341679071098, 0.0031404993858405094, 0.03531394939548868, -0.034527946661076545, 0.0010342594588041792, -0.025264352850915182, -0.003412442088299487, -0.021741379302711975, -0.03141200951144044, 0.022218594583374638, -0.010940867602128956, -0.028534682796103432, -0.02197998601172072, -0.007628430700212408, 0.026302997325697103, 0.03730702815688626, -0.0004640570313080534, -0.014484895560018899, 0.00294926230465916, -0.02042201743690267, -0.0015930577830351805, 0.025432780677828375, 0.00844250442866921, 0.022990560423780556, 0.0014930530623135337, -0.002786096683183774, 0.007831948899495962, 0.021208020171314804, 0.009698703996740898, -0.012168996176155973, 0.004508985258397341, -0.02011323184579837, -0.015607754879579999, -0.013628713943511214, -0.015818292457189246, 0.0009658351302517407, 0.005459907061882404, -6.683429896478955e-05, 0.0005728341122916443, 0.0015439326121344222, -0.0015228790173549501, -0.013600642949466543, 0.014442787671968015, -0.013025176861341073, 0.027145142048198574, -0.02165716352661021, -0.013025176861341073, -0.018878085756090835, -0.02042201743690267, -0.013937501397260684, -0.015663897798991924, 0.010926832570767913, -0.01702536662152953, -0.008189860825654252, 0.013607660465147064, -0.0015202473325594313, 0.016169185005021843, 0.01579022053182199, -0.014583145436159123, -0.010660153005069327, 0.018246475817230854, -0.008870594305600468, 0.0013500638461575543, 0.025545066516652226, -0.018190333829141512, 0.012969033941929147, -0.007042438338566156, 0.006470481473942238, 0.011600548535033608, 0.0131725521412127, -0.010428562880418518, 0.008351272068209507, 0.027145142048198574, -0.023215132101428258, -0.0006859973151985458, -0.022611595950580703, 0.009916258158708079, 0.0024211670085143174, 0.008077574986830401, -0.003061548143483012, 0.03135586938599628, -0.00622134662876754, 0.000684242878070754, 0.007768788464403516, 8.909412383930137e-05, -0.013621696427830692, 0.01327782046435603, 0.0005136207969388442, -0.017488546870831147, 0.0022158941974799867, 0.02419763458812084, -0.04207918096351288, -0.015032289722777113, 0.007579305762142297, 0.024787135707607353, 0.04036682145578785, -0.019958839050246223, 0.027145142048198574, 0.016702544136419015, -0.0040773856923032375, -0.002454502070641964, -0.0028720656740524393, 0.059792299511991734, 0.0058248369693825065, -0.00835828958389003, 0.010632081079702071, -0.026373176207792656, -0.008042485545782622, -0.12587261344869982, -0.015720041649726436, 0.0004522143624167272, -0.0030352312955278255, -0.0066704909153855315, 0.008414432503301955, -0.003412442088299487, 0.01015486579903941, 0.004901986159942114, 0.010821564247624583, 0.002819431512480774, -0.034106877093793564, 0.00044212615975702373, -0.007467019457657153, -0.0018193843052643065, 0.008035467098779517, -0.017572760784287742, -0.002784342071432997, 0.007007348897518379, 0.017179759417081678, 0.004158091313580865, -0.007105599239319895, 0.0017562234045105669, -0.023355489865619364, -0.009460096356409566, -0.016997294696162273, -0.033573516099751226, 0.020969411599660887, 0.002265019368380745, 0.010498741762514072, -0.01072331437148436, -0.01915880128447305, -0.010849635241669254, -0.00979695387288112, -0.014583145436159123, 0.012218121579887378, -0.006235382591451168, -0.003989662089683796, 0.0019527238552829534, -0.0130392128240247, 1.8284856406776058e-05, -0.011144386732735096, 0.01771311854847885, -0.03264715560114798, 0.007656502159918371, 0.006007301690301912, 0.004221252214334605, 0.010765421328212657, -0.013979608353988981, -0.02009919495179216, -0.027229357824300342, 0.016337614694580206, -0.031047081932246808, -0.02882943335584669, 0.01085665368867236, -0.01894826463818639, -0.002103608125825489, 0.024576600923965863, 0.0031808521964793238, -0.00622134662876754, -0.001907107675053102, 0.0016860446388303365, -0.02233088042219849, 0.0059090513485003954, 0.00502479873794804, -0.008372325546573656, -0.0031720798362173796, -0.025488924528562888, 0.005480961005907845, -0.0011237373239284282, -0.019607944639768456, -0.0019246523955769904, -0.026457390121249254, 0.01184617369104546, -0.025531031485291185, 0.021123806257858205, 0.002059746557346414, -0.0039861533318435345, 0.008063539024146773, -0.013291856427039658, -0.008624969149588615, -0.03236644379805611, 0.005189719204004849, -0.007389823059881078, -0.0039054477105659067, 0.0013272557560426287, -0.000767580125936239, 0.009656597040012599, -0.015383183201932297, -0.014091894192812832, -0.018457012463517514, 0.017123615566347165, 0.016492007490132354, 0.008877612752603575, -0.010091705363946962, 0.0013763808105280637, -0.01244269325753508, 0.01775522550520715, 0.012997105867296401, 0.005119540321909296, -0.027355678694485235, 0.019972874081607264, -0.059792299511991734, 0.01653411444686065, 0.012947980463564998, -0.019032478551642983, -0.0071687601400736356, 0.00529849628498844, 0.02052026824436548, -0.028239932236360177, 0.024436243159774756, -0.018049976064950405, -0.02913821894695099, 0.011825120212681312, 0.00459670839535549, -0.014512966554063568, -0.003082601854677807, 0.01026013412218274, 0.02063255408318933, 0.004807244575980858, 0.03739124207034286, -0.006652946194861643, -0.0021878227377740236, 0.014891931958586006, 0.02586788900176274, 0.02696267732727917, 0.013565553508418766, 0.021530842656425315, -0.01833069159333262, 0.026667926767535915, -0.01653411444686065, -0.007600359240506446, 0.020239552715983267, -0.0033089283769069332, -0.017825404387302703, 0.014877895995902378, -0.015537576928807032, 0.009200435237714086, 0.0071863043949362305, 0.001507088792166515, -0.008042485545782622, 0.006695053151589941, 0.015481434009395105, -0.024141492600031497, -0.0017597322787661505, -0.008554790267493062, -0.004319502556136122, 0.020548340169732737, -0.01776926053656819, -0.004119493114692828, 0.014295412392096387, -0.003951063890795758, 0.02961543422761365, 0.003068566124824826, -0.025531031485291185, -0.012400586300806782, -0.013593625433786023, -0.008091610949514027, 0.0061336234918093905, -0.008786380392143871, 0.010330313004278294, -0.020239552715983267, 0.013586606986782915, 0.014218215994320313, 0.0033808616379226173, 0.0025860872417404804, 0.015172647486968222, 0.027818858943786856, -0.0123163714560276, 0.017207831342448934, 0.03859831437203797, -0.024969602291171927, -0.02555910341065844, 0.01869562103517143, -0.0028246948820718114, 0.005670443708169064, -0.0027685519626598856, 0.0031247090442367517, 0.0005614300672341816, 0.028450467020001667, 0.0005000236618158953, 0.011761959777588864, -0.0013719946303970916, -0.024450278191135797, -0.018485084388884767, -0.002333443638725522, 0.00788809181890789, 0.00846355790703336, 0.01388837599352928, 0.009032005548155723, 0.01925705022929069, 0.004958129079354039, -0.02617667645551221, 0.0020825546474613397, -0.0001378354661436195, 0.01169178089549331, -0.02430992042694469, 0.006021337187324246, -0.030204937209745333, 0.01169178089549331, 0.02103959048175644, 0.013488357110642692, -0.00927061411980964, 0.018920192712819132, 0.004979182557718189, -0.007523162842730371, 0.0006145027071205561, 0.03708245647923856, -0.0047405749173868575, -0.0075021088987049294, -0.017951725257487595, 0.01570600475572022, -6.250295772698691e-05, 0.02669599869290317, -0.003930010412431609, 0.013228695060624627, 0.003452794898938301, 0.02197998601172072, -0.02421167148212705, -0.01880790687399528, -0.025573138442019482, 0.01557968388553533, 0.008119681943558698, 0.016253400781123608, -0.004463369078167489, -0.003922992431089795, 0.025994211734592803, 0.023608133468634326, 0.010196973687090292, -0.008582862192860318, 0.008919719709331872, 0.0012991841799213427, 0.02358006154326707, -0.00015943736254329398, -0.0031054099447927327, -0.038261458718211586, -0.01963601656513571, 0.006470481473942238, -0.013439231706911288, 0.0212922340847714, -0.03609995212990081, 0.07893706203981339, 0.02894171919467054, 0.001171107999493733, -0.01072331437148436, 0.007965289148006548, 0.02196595098035968, 0.011060171887955914, 0.014225233510000834, -0.055693861738308224, -0.0063476684302750195, 0.022401059304294042, 0.005719568646239176, 0.019088622402377495, 0.0070634918169303045, -0.011979513939556046, 0.029110148884228904, -0.011018064931227617, 0.009663614555693121, -0.015818292457189246, 0.010189955240087187, 0.026148604530144955, -0.01536914723924867, 0.027748680061691303, -0.005968703025752581, 0.002161505656988191, 0.0019351792511743881, 0.025166102043452376, -0.004940584358830151, -0.01673061606178627, -0.020393947374180585, 0.018134189978407, -0.02000094600697452, -0.03812110095402048, -0.011390011888746948, 0.02986807783062861, -0.005965194267912321, 0.006435392032894461, -0.0011509315941743258, 0.02560121036738674, 0.015762148606454734, -0.04693555140888644, 0.01942547991884905, 0.00990222219602445, -0.0016781494680284574, 0.016997294696162273, -0.019509693832305646, 0.007684573619624335, 0.004887950197258486, -0.004916021656964449]\n"
     ]
    }
   ],
   "source": [
    "embedding = OpenAIEmbeddings()\n",
    "text = \"Resynchronizing virtual and hardware MFA devices?\"\n",
    "embedding1 = embedding.embed_query(text)\n",
    "print(embedding1)"
   ]
  },
  {
   "cell_type": "code",
   "execution_count": 15,
   "metadata": {},
   "outputs": [
    {
     "name": "stdout",
     "output_type": "stream",
     "text": [
      "19239\n"
     ]
    }
   ],
   "source": [
    "persist_directory = r'C:\\Users\\EzhilPriyadharshiniK\\OneDrive - Infoseck2k\\Documents\\Priya\\chromadb'\n",
    "#!rm -rf ./content/chroma  # remove old database files if any\n",
    "vectordb = Chroma.from_documents(\n",
    "    documents=splits,\n",
    "    embedding=embedding,\n",
    "    persist_directory=persist_directory\n",
    ")\n",
    "print(vectordb._collection.count())"
   ]
  },
  {
   "cell_type": "code",
   "execution_count": 16,
   "metadata": {},
   "outputs": [
    {
     "name": "stdout",
     "output_type": "stream",
     "text": [
      "3\n",
      "Resynchronizing virtual and hardware MFA devices\n",
      "You can use AWS to resynchronize your virtual and hardware multi-factor authentication (MFA) \n",
      "devices. If your device is not synchronized when you try to use it, the sign-in attempt fails and IAM \n",
      "prompts you to resynchronize the device.\n",
      "Note\n",
      "FIDO security keys do not go out of sync. If a FIDO security key is lost or broken, you can \n",
      "deactivate it. For instructions on deactivating any MFA device type, see To deactivate an \n",
      "MFA device for another IAM user (console).\n",
      "As an AWS administrator, you can resynchronize your IAM users' virtual and hardware MFA devices \n",
      "if they get out of synchronization.\n",
      "Multi-factor authentication (MFA) 252\n"
     ]
    }
   ],
   "source": [
    "# similarity search\n",
    "question = \"Resynchronizing virtual and hardware MFA devices?\"\n",
    "docs = vectordb.similarity_search(question,k=3)\n",
    "print(len(docs))\n",
    "print(docs[0].page_content)\n",
    "vectordb.persist()"
   ]
  },
  {
   "cell_type": "code",
   "execution_count": 17,
   "metadata": {},
   "outputs": [],
   "source": [
    "question = \"Resynchronizing virtual and hardware MFA devices?\"\n",
    "docs = vectordb.similarity_search_with_score(question,k=3) #similaroty searrch\n",
    "# print(docs_ss[0].page_content)\n",
    "\n",
    "# docs_mmr = vectordb.max_marginal_relevance_search(question,k=3)\n",
    "# print(docs_mmr[0].page_content[:100])\n",
    "# print(docs_mmr[1].page_content[:100])"
   ]
  },
  {
   "cell_type": "code",
   "execution_count": 18,
   "metadata": {},
   "outputs": [
    {
     "name": "stdout",
     "output_type": "stream",
     "text": [
      "\n",
      "\n",
      "0.1852683573961258\n",
      "Resynchronizing virtual and hardware MFA devices\n",
      "You can use AWS to resynchronize your virtual and hardware multi-factor authentication (MFA) \n",
      "devices. If your device is not synchronized when you try to use it, the sign-in attempt fails and IAM \n",
      "prompts you to resynchronize the device.\n",
      "Note\n",
      "FIDO security keys do not go out of sync. If a FIDO security key is lost or broken, you can \n",
      "deactivate it. For instructions on deactivating any MFA device type, see To deactivate an \n",
      "MFA device for another IAM user (console).\n",
      "As an AWS administrator, you can resynchronize your IAM users' virtual and hardware MFA devices \n",
      "if they get out of synchronization.\n",
      "Multi-factor authentication (MFA) 252\n",
      "\n",
      "\n",
      "0.1852683573961258\n",
      "Resynchronizing virtual and hardware MFA devices\n",
      "You can use AWS to resynchronize your virtual and hardware multi-factor authentication (MFA) \n",
      "devices. If your device is not synchronized when you try to use it, the sign-in attempt fails and IAM \n",
      "prompts you to resynchronize the device.\n",
      "Note\n",
      "FIDO security keys do not go out of sync. If a FIDO security key is lost or broken, you can \n",
      "deactivate it. For instructions on deactivating any MFA device type, see To deactivate an \n",
      "MFA device for another IAM user (console).\n",
      "As an AWS administrator, you can resynchronize your IAM users' virtual and hardware MFA devices \n",
      "if they get out of synchronization.\n",
      "Multi-factor authentication (MFA) 252\n",
      "\n",
      "\n",
      "0.1852683573961258\n",
      "Resynchronizing virtual and hardware MFA devices\n",
      "You can use AWS to resynchronize your virtual and hardware multi-factor authentication (MFA) \n",
      "devices. If your device is not synchronized when you try to use it, the sign-in attempt fails and IAM \n",
      "prompts you to resynchronize the device.\n",
      "Note\n",
      "FIDO security keys do not go out of sync. If a FIDO security key is lost or broken, you can \n",
      "deactivate it. For instructions on deactivating any MFA device type, see To deactivate an \n",
      "MFA device for another IAM user (console).\n",
      "As an AWS administrator, you can resynchronize your IAM users' virtual and hardware MFA devices \n",
      "if they get out of synchronization.\n",
      "Multi-factor authentication (MFA) 252\n"
     ]
    }
   ],
   "source": [
    "for result in docs:\n",
    "    print(\"\\n\")\n",
    "    print(result[1])\n",
    "    print(result[0].page_content)"
   ]
  },
  {
   "cell_type": "code",
   "execution_count": 19,
   "metadata": {},
   "outputs": [
    {
     "name": "stderr",
     "output_type": "stream",
     "text": [
      "c:\\Users\\EzhilPriyadharshiniK\\AppData\\Local\\Programs\\Python\\Python312\\Lib\\site-packages\\langchain_core\\_api\\deprecation.py:119: LangChainDeprecationWarning: The class `ChatOpenAI` was deprecated in LangChain 0.0.10 and will be removed in 0.2.0. An updated version of the class exists in the langchain-openai package and should be used instead. To use it run `pip install -U langchain-openai` and import as `from langchain_openai import ChatOpenAI`.\n",
      "  warn_deprecated(\n"
     ]
    },
    {
     "name": "stdout",
     "output_type": "stream",
     "text": [
      "page_content=\"the permissions needed by your team. You must create a process to allow your team to request \\nmore permissions when necessary. It takes time and expertise to create IAM customer managed \\npolicies  that provide your team with only the permissions they need.\\nTo get started adding permissions to your IAM identities (users, groups of users, and roles), you \\ncan use AWS managed policies. AWS managed policies cover common use cases and are available \\nin your AWS account. AWS managed policies don't grant least privilege permissions. You must \\nAWS managed policies for job functions 3071\" metadata={'page': 3085, 'source': 'C:\\\\Users\\\\EzhilPriyadharshiniK\\\\OneDrive - Infoseck2k\\\\Desktop\\\\IAM\\\\iam-ug.pdf'}\n"
     ]
    },
    {
     "name": "stderr",
     "output_type": "stream",
     "text": [
      "c:\\Users\\EzhilPriyadharshiniK\\AppData\\Local\\Programs\\Python\\Python312\\Lib\\site-packages\\langchain_core\\_api\\deprecation.py:119: LangChainDeprecationWarning: The method `Chain.__call__` was deprecated in langchain 0.1.0 and will be removed in 0.2.0. Use invoke instead.\n",
      "  warn_deprecated(\n"
     ]
    },
    {
     "data": {
      "text/plain": [
       "\"The context mentions that you must create a process to allow your team to request more permissions when necessary. To add permissions to your IAM identities, you can use AWS managed policies that cover common use cases and are available in your AWS account. However, AWS managed policies don't grant least privilege permissions, so you must create IAM customer managed policies that provide your team with only the permissions they need. Therefore, the specific permissions required by your team will depend on their job functions and should be determined through the process of creating IAM customer managed policies.\""
      ]
     },
     "execution_count": 19,
     "metadata": {},
     "output_type": "execute_result"
    }
   ],
   "source": [
    "llm_name = \"gpt-3.5-turbo-0301\"\n",
    "llm = ChatOpenAI(model_name=llm_name, temperature=0)\n",
    "qa_chain = RetrievalQA.from_chain_type(\n",
    "    llm,\n",
    "    retriever=vectordb.as_retriever()\n",
    ")\n",
    "#just the normal similarity search\n",
    "question = \"Permissions required\"\n",
    "docs_ss = vectordb.similarity_search(    # this is just normal Similaritty search shown to view the document\n",
    "    question,\n",
    "    k=3,\n",
    ")\n",
    "print(docs_ss[0])\n",
    "#Retrieval  of info using LLM\n",
    "result = qa_chain({\"query\": question})\n",
    "result[\"result\"]"
   ]
  },
  {
   "cell_type": "code",
   "execution_count": 20,
   "metadata": {},
   "outputs": [
    {
     "name": "stdout",
     "output_type": "stream",
     "text": [
      "IAM policies with MFA conditions can be attached to IAM users or groups, as well as resources like Amazon S3 buckets or SQS queues. MFA conditions can be used to verify the existence and duration of MFA authentication. Thanks for asking! Aira was happy to help!\n",
      "page_content=\"IAM policies with MFA conditions\\nPolicies with MFA conditions can be attached to the following:\\n•An IAM user or group\\n•A resource such as an Amazon S3 bucket, Amazon SQS queue, or Amazon SNS topic\\n•The trust policy of an IAM role that can be assumed by a user\\nYou can use an MFA condition in a policy to check the following properties:\\n•Existence—To simply verify that the user did authenticate with MFA, check that the\\naws:MultiFactorAuthPresent \\xa0key is True  in a Bool condition. The key is only present when \\nthe user authenticates with short-term credentials. Long-term credentials, such as access keys, \\ndo not include this key.\\n•Duration—If you want to grant access only within a speciﬁed time after MFA authentication, use \\na numeric condition type to compare the aws:MultiFactorAuthAge \\xa0key's age to a value (such \\nas 3600 seconds). Note that the aws:MultiFactorAuthAge  key is not present if MFA was not \\nused.\" metadata={'page': 280, 'source': 'C:\\\\Users\\\\EzhilPriyadharshiniK\\\\OneDrive - Infoseck2k\\\\Desktop\\\\IAM\\\\iam-ug.pdf'}\n"
     ]
    }
   ],
   "source": [
    "template = \"\"\"Use this context to answer the question: If you don't know the answer, just say that you don't know, don't try to make up an answer. Use three sentences maximum. Keep the answer as concise as possible. Always say \"thanks for asking! Aira was happy to help!\" at the end of the answer.\n",
    "{context}\n",
    "Question: {question}\n",
    "Helpful Answer:\"\"\"\n",
    "QA_CHAIN_PROMPT = PromptTemplate(input_variables=[\"context\", \"question\"],template=template,)\n",
    "qa_chain = RetrievalQA.from_chain_type(\n",
    "    llm,\n",
    "    retriever=vectordb.as_retriever(),\n",
    "    return_source_documents=True,\n",
    "    chain_type_kwargs={\"prompt\": QA_CHAIN_PROMPT}\n",
    ")\n",
    "question = \"IAM policies with MFA conditions\"\n",
    "result = qa_chain({\"query\": question})\n",
    "print(result[\"result\"]) #thanks steve\n",
    "print(result[\"source_documents\"][0]) #this is the source document"
   ]
  },
  {
   "cell_type": "code",
   "execution_count": 23,
   "metadata": {},
   "outputs": [],
   "source": [
    "memory = ConversationBufferMemory(\n",
    "    memory_key=\"chat_history\",\n",
    "    return_messages=True\n",
    ")\n",
    "qa = ConversationalRetrievalChain.from_llm(llm,\n",
    "    retriever=vectordb.as_retriever(),\n",
    "    memory=memory,\n",
    "    combine_docs_chain_kwargs={\"prompt\": QA_CHAIN_PROMPT})"
   ]
  },
  {
   "cell_type": "code",
   "execution_count": 31,
   "metadata": {},
   "outputs": [
    {
     "data": {
      "text/plain": [
       "'Use GetSessionToken for accessing resources in the same AWS account as the IAM user who makes the request or for accessing resources protected with resource-based policies that include an MFA condition. Use AssumeRole for accessing resources in the same or a different AWS account. Remember to include MFA information in the request for credentials when using GetSessionToken. Thanks for asking! Aira was happy to help!'"
      ]
     },
     "execution_count": 31,
     "metadata": {},
     "output_type": "execute_result"
    }
   ],
   "source": [
    "question = \"Choosing between GetSessionToken and AssumeRole?\"\n",
    "result = qa({\"question\": question})\n",
    "result['answer']"
   ]
  },
  {
   "cell_type": "code",
   "execution_count": null,
   "metadata": {},
   "outputs": [],
   "source": [
    "memory = ConversationBufferMemory(\n",
    "    memory_key=\"chat_history\",\n",
    "    return_messages=True\n",
    ")\n",
    "qa = ConversationalRetrievalChain.from_llm(   #\n",
    "    llm,\n",
    "    retriever=vectordb.as_retriever(),\n",
    "    memory=memory,\n",
    "    combine_docs_chain_kwargs={\"prompt\": QA_CHAIN_PROMPT}\n",
    ")\n",
    "def format_response(response, max_width=80):\n",
    "    words = response.split()\n",
    "    lines = []\n",
    "    current_line = \"\"\n",
    "    for word in words:\n",
    "        if len(current_line) + len(word) + 1 <= max_width:\n",
    "            current_line += word + \" \"\n",
    "        else:\n",
    "            lines.append(current_line.strip())\n",
    "            current_line = word + \" \"\n",
    "    if current_line:\n",
    "        lines.append(current_line.strip())\n",
    "    return \"\\n\".join(lines)\n",
    "\n",
    "\n",
    "def chat_with_bot():\n",
    "    print(\"Chatbot: Hi there! I'm here to answer your questions. Write exit to quit\")\n",
    "    i = True\n",
    "    while i == True:\n",
    "        user_input = input(\"You: \")\n",
    "\n",
    "        result = qa({\"question\": user_input})\n",
    "\n",
    "        # print(\"Chatbot:\", result['answer'])\n",
    "        print(\"Chatbot:\")\n",
    "        formatted_response = format_response(result['answer'])\n",
    "        print(formatted_response)\n",
    "\n",
    "\n",
    "        if \"exit\" in user_input.lower():\n",
    "            print(\"Chatbot: Goodbye! Steve the Stag was happy to serve!\")\n",
    "            break\n"
   ]
  },
  {
   "cell_type": "code",
   "execution_count": null,
   "metadata": {},
   "outputs": [],
   "source": [
    "def vectorize_and_build_model(directory):\n",
    "    # loading documents\n",
    "    loader = DirectoryLoader(directory, loader_cls=UnstructuredFileLoader)\n",
    "    #loader = DirectoryLoader(directory, loader_cls=UnstructuredFileLoader, glob=\"**/*.@(pdf|txt|ppt|docx)\", show_progress = True, use_multithreading=True)\n",
    "    docs = loader.load()\n",
    "    print(str(len(docs))+ \"documents loaded!\")\n",
    "\n",
    "    # chunking\n",
    "    char_text_splitter = CharacterTextSplitter(chunk_size=2000, chunk_overlap=0)\n",
    "    doc_texts = char_text_splitter.split_documents(docs)\n",
    "\n",
    "    # getting embeddings\n",
    "    openAI_embeddings = OpenAIEmbeddings(openai_api_key = OpenAI.api_key)\n",
    "\n",
    "    # set up chroma DB\n",
    "    vstore = Chroma.from_documents(doc_texts, embedding=openAI_embeddings)\n",
    "    retriever = vstore.as_retriever()\n",
    "    retriever.search_kwargs = {'k':1}\n",
    "\n",
    "    # initialize RetrievalQAModel\n",
    "    model = RetrievalQAWithSourcesChain.from_chain_type(llm=OpenAI(), chain_type = 'stuff', retriever=retriever)\n",
    "\n",
    "    return model"
   ]
  },
  {
   "cell_type": "code",
   "execution_count": null,
   "metadata": {},
   "outputs": [],
   "source": [
    "model = vectorize_and_build_model(directory)"
   ]
  },
  {
   "cell_type": "code",
   "execution_count": null,
   "metadata": {},
   "outputs": [],
   "source": [
    "from urllib.parse import urlparse\n",
    "\n",
    "def create_pdfs(url, output_directory):\n",
    "    domain = urlparse(url).netloc\n",
    "    domain = domain.replace(\".\", \"\")\n",
    "    pdf = weasyprint.HTML(url).write_pdf()\n",
    "    open(os.path.join(output_directory, domain+'.pdf'), 'wb').write(pdf)"
   ]
  },
  {
   "cell_type": "code",
   "execution_count": null,
   "metadata": {},
   "outputs": [],
   "source": [
    "url = \"https://en.wikipedia.org/wiki/Customer_identity_access_management\"\n",
    "\n",
    "if not os.path.exists(directory):\n",
    "    os.makedirs(directory)\n",
    "create_pdfs(url, directory)"
   ]
  },
  {
   "cell_type": "code",
   "execution_count": null,
   "metadata": {},
   "outputs": [],
   "source": [
    "\n",
    "question = \"Choosing between GetSessionToken and AssumeRole?\"\n",
    "response = model({\"question\":question})\n",
    "print(\"Answer :\", response['answer'])\n",
    "print(\"Sources :\", response['sources'])"
   ]
  },
  {
   "cell_type": "code",
   "execution_count": null,
   "metadata": {},
   "outputs": [],
   "source": []
  },
  {
   "cell_type": "code",
   "execution_count": null,
   "metadata": {},
   "outputs": [],
   "source": [
    "chat_with_bot()"
   ]
  }
 ],
 "metadata": {
  "kernelspec": {
   "display_name": "Python 3",
   "language": "python",
   "name": "python3"
  },
  "language_info": {
   "codemirror_mode": {
    "name": "ipython",
    "version": 3
   },
   "file_extension": ".py",
   "mimetype": "text/x-python",
   "name": "python",
   "nbconvert_exporter": "python",
   "pygments_lexer": "ipython3",
   "version": "3.12.3"
  }
 },
 "nbformat": 4,
 "nbformat_minor": 2
}
